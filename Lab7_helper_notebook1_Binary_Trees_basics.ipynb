{
 "cells": [
  {
   "attachments": {},
   "cell_type": "markdown",
   "metadata": {},
   "source": [
    "# Helper Notebook 7.1: Binary tree basics\n",
    "\n",
    "This notebook can help you to wrap your head around how a decision tree might best be implemented. We will cover a very bare-bones `TreeNode` class, and show how that node can be used in connection with the child nodes.\n",
    "\n",
    "## Tools\n",
    "\n",
    "#### Libraries:\n",
    "\n",
    "- lolviz: for visualization of graphs\n",
    "\n",
    "#### Datasets:\n",
    "\n",
    "None \n",
    "\n",
    "## Setup\n",
    "\n",
    "For this lab you will need another library called `lolviz` which you can install within the Jupyter notebook, but you first should first install `graphviz`, which is easy to do on a Mac.\n",
    "\n",
    "```\n",
    "brew install graphviz\n",
    "```"
   ]
  },
  {
   "cell_type": "code",
   "execution_count": null,
   "metadata": {},
   "outputs": [],
   "source": [
    "#!pip install -q lolviz"
   ]
  },
  {
   "cell_type": "code",
   "execution_count": null,
   "metadata": {},
   "outputs": [],
   "source": [
    "from lolviz import *"
   ]
  },
  {
   "attachments": {},
   "cell_type": "markdown",
   "metadata": {},
   "source": [
    "## Binary tree class definition\n",
    "\n",
    "Let's first define a very simple tree node class that holds a value in it, and also has left and right attributes which you can think of as the left and right branches that descend down from the node (when you picture the tree visually)."
   ]
  },
  {
   "cell_type": "code",
   "execution_count": null,
   "metadata": {},
   "outputs": [],
   "source": [
    "class TreeNode:\n",
    "  def __init__(self, value, left=None, right=None):\n",
    "    self.value = value\n",
    "    self.left = left\n",
    "    self.right = right\n",
    "  def __repr__(self):\n",
    "    return str(self.value)\n",
    "  def __str__(self):\n",
    "    return str(self.value)"
   ]
  },
  {
   "attachments": {},
   "cell_type": "markdown",
   "metadata": {},
   "source": [
    "## Manual tree construction\n",
    "\n",
    "Now we can contruct a very simple tree using the class defined above. Note that the left and right attributes of the first \"root\" node are set to TreeNode objects."
   ]
  },
  {
   "cell_type": "code",
   "execution_count": null,
   "metadata": {},
   "outputs": [],
   "source": [
    "root = TreeNode(1)\n",
    "root.left = TreeNode(2)\n",
    "root.right = TreeNode(3)\n",
    "treeviz(root)"
   ]
  },
  {
   "cell_type": "code",
   "execution_count": null,
   "metadata": {},
   "outputs": [],
   "source": [
    "root.left.left = TreeNode(4)\n",
    "root.left.right = TreeNode(5)\n",
    "treeviz(root)"
   ]
  },
  {
   "attachments": {},
   "cell_type": "markdown",
   "metadata": {},
   "source": [
    "## Recursion detour\n",
    "\n",
    "Here's a very simple recursive function for the factorial."
   ]
  },
  {
   "cell_type": "code",
   "execution_count": null,
   "metadata": {},
   "outputs": [],
   "source": [
    "def fact(n):\n",
    "    if n==0: return 1\n",
    "    return n * fact(n-1)"
   ]
  },
  {
   "cell_type": "code",
   "execution_count": null,
   "metadata": {},
   "outputs": [],
   "source": [
    "fact(0), fact(1), fact(5), fact(8), fact(10)"
   ]
  },
  {
   "cell_type": "markdown",
   "metadata": {},
   "source": [
    "### Template for building recursive functions:\n",
    "\n",
    "<i>\n",
    "def f(input):<br>\n",
    "&nbsp;&nbsp;  1. check termination condition<br>\n",
    "&nbsp;&nbsp;  2. process the active input region, current node, etc...<br>\n",
    "&nbsp;&nbsp;  3. invoke f on subregion(s), children, etc...<br>\n",
    "&nbsp;&nbsp;  4. combine and return results\n",
    "</i>    "
   ]
  },
  {
   "attachments": {},
   "cell_type": "markdown",
   "metadata": {},
   "source": [
    "## Recursive tree walk\n",
    "\n",
    "Now let's create a function that will travel down a tree in a very specific order, and print the values from each node, and will hit every single node.  "
   ]
  },
  {
   "cell_type": "code",
   "execution_count": null,
   "metadata": {},
   "outputs": [],
   "source": [
    "def walk_tree(p:TreeNode) -> None:\n",
    "    if p is None: \n",
    "        print('None')\n",
    "        return\n",
    "    print(p.value) # \"visit\" node in preorder traversal position\n",
    "    walk_tree(p.left)\n",
    "    walk_tree(p.right)"
   ]
  },
  {
   "cell_type": "code",
   "execution_count": null,
   "metadata": {},
   "outputs": [],
   "source": [
    "treeviz(root)"
   ]
  },
  {
   "cell_type": "code",
   "execution_count": null,
   "metadata": {},
   "outputs": [],
   "source": [
    "walk_tree(root)"
   ]
  },
  {
   "attachments": {},
   "cell_type": "markdown",
   "metadata": {},
   "source": [
    "## Tree search\n",
    "\n",
    "Now we do something similar, but instead of just printing the value in each node we are looking for a very specific value in the tree. If we find that value, we print it, otherwise we return None."
   ]
  },
  {
   "cell_type": "code",
   "execution_count": null,
   "metadata": {},
   "outputs": [],
   "source": [
    "def search(p:TreeNode, x:object) -> TreeNode:\n",
    "    if p is None: return None\n",
    "    if x==p.value: return p\n",
    "    q = search(p.left, x)\n",
    "    if q is not None: return q\n",
    "    return search(p.right, x)"
   ]
  },
  {
   "cell_type": "code",
   "execution_count": null,
   "metadata": {},
   "outputs": [],
   "source": [
    "search(root, 2), search(root, 1), search(root, 5), search(root, 100)"
   ]
  },
  {
   "attachments": {},
   "cell_type": "markdown",
   "metadata": {},
   "source": [
    "## Binary search trees\n",
    "\n",
    "Let's construct a tree such that all elements less than p.value (the value in the node) are accessed via p.left and all values greater than p.value are accessed via p.right."
   ]
  },
  {
   "cell_type": "code",
   "execution_count": null,
   "metadata": {},
   "outputs": [],
   "source": [
    "root = TreeNode(10)\n",
    "root.left = TreeNode(3)\n",
    "root.right = TreeNode(13)\n",
    "root.left.left = TreeNode(2)\n",
    "root.left.right = TreeNode(7)\n",
    "root.right.right = TreeNode(21)\n",
    "treeviz(root)"
   ]
  },
  {
   "attachments": {},
   "cell_type": "markdown",
   "metadata": {},
   "source": [
    "### Walking\n",
    "\n",
    "Now when we want to search for a specific value, we know that we do not have to search the entire tree. We can use the value in the node to tell us if we should keep search through the tree by going down the left branch or the right branch."
   ]
  },
  {
   "cell_type": "code",
   "execution_count": null,
   "metadata": {},
   "outputs": [],
   "source": [
    "def bst_search(p:TreeNode, x:object):\n",
    "    if p is None: return None\n",
    "    if x<p.value:\n",
    "        return bst_search(p.left, x)\n",
    "    if x>p.value:\n",
    "        return bst_search(p.right, x)\n",
    "    return p"
   ]
  },
  {
   "cell_type": "code",
   "execution_count": null,
   "metadata": {},
   "outputs": [],
   "source": [
    "bst_search(root, 10), bst_search(root, 3), bst_search(root, 2), bst_search(root, 21), bst_search(root, 100)"
   ]
  },
  {
   "attachments": {},
   "cell_type": "markdown",
   "metadata": {},
   "source": [
    "### Constructing a tree\n",
    "\n",
    "Here we can create a new function so that we do not have to manually create the tree in the correct way. This function, when called, will add the node in the correct place on the tree to meet the conditions we defined above."
   ]
  },
  {
   "cell_type": "code",
   "execution_count": null,
   "metadata": {},
   "outputs": [],
   "source": [
    "def add(p:TreeNode, value) -> TreeNode:\n",
    "    \"add nodes like a binary search tree\"\n",
    "    if p is None:\n",
    "        return TreeNode(value)\n",
    "    if value < p.value:\n",
    "        p.left = add(p.left, value)\n",
    "    elif value > p.value:\n",
    "        p.right = add(p.right, value)\n",
    "    # do nothing if equal (already there)\n",
    "    return p"
   ]
  },
  {
   "cell_type": "code",
   "execution_count": null,
   "metadata": {},
   "outputs": [],
   "source": [
    "root = add(None, 9)\n",
    "treeviz(root)"
   ]
  },
  {
   "cell_type": "code",
   "execution_count": null,
   "metadata": {},
   "outputs": [],
   "source": [
    "add(root, 5)\n",
    "treeviz(root)"
   ]
  },
  {
   "cell_type": "code",
   "execution_count": null,
   "metadata": {},
   "outputs": [],
   "source": [
    "add(root, 42)\n",
    "treeviz(root)"
   ]
  },
  {
   "cell_type": "code",
   "execution_count": null,
   "metadata": {},
   "outputs": [],
   "source": [
    "add(root, 8)\n",
    "treeviz(root)"
   ]
  },
  {
   "cell_type": "code",
   "execution_count": null,
   "metadata": {},
   "outputs": [],
   "source": [
    "add(root, 15)\n",
    "treeviz(root)"
   ]
  },
  {
   "cell_type": "code",
   "execution_count": null,
   "metadata": {},
   "outputs": [],
   "source": [
    "add(root, 1)\n",
    "treeviz(root)"
   ]
  },
  {
   "cell_type": "code",
   "execution_count": null,
   "metadata": {},
   "outputs": [],
   "source": [
    "add(root, 5) # already there\n",
    "treeviz(root)"
   ]
  }
 ],
 "metadata": {
  "kernelspec": {
   "display_name": "ml",
   "language": "python",
   "name": "python3"
  },
  "language_info": {
   "codemirror_mode": {
    "name": "ipython",
    "version": 3
   },
   "file_extension": ".py",
   "mimetype": "text/x-python",
   "name": "python",
   "nbconvert_exporter": "python",
   "pygments_lexer": "ipython3",
   "version": "3.12.0"
  },
  "vscode": {
   "interpreter": {
    "hash": "31d7989649452b8ff5b252a3e34caf45e4ffd8a5787fe28fc2ce0245f11b7782"
   }
  }
 },
 "nbformat": 4,
 "nbformat_minor": 4
}
