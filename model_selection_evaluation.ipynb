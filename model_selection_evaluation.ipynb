{
 "cells": [
  {
   "cell_type": "code",
   "execution_count": 187,
   "id": "11f149eb",
   "metadata": {},
   "outputs": [],
   "source": [
    "import numpy as np\n",
    "import pandas as pd\n",
    "import matplotlib.pyplot as plt\n",
    "import seaborn as sns\n",
    "\n",
    "from sklearn.model_selection import train_test_split\n",
    "from sklearn.linear_model import LinearRegression\n",
    "from sklearn.preprocessing import StandardScaler\n",
    "from sklearn.model_selection import LeaveOneOut\n",
    "from sklearn.model_selection import cross_val_predict\n",
    "from sklearn.model_selection import KFold\n",
    "from sklearn.utils import resample\n",
    "from sklearn.metrics import r2_score"
   ]
  },
  {
   "cell_type": "code",
   "execution_count": 188,
   "id": "501a1bad",
   "metadata": {},
   "outputs": [],
   "source": [
    "communities = pd.read_csv('communities.data', header=None, na_values =\"?\")"
   ]
  },
  {
   "cell_type": "code",
   "execution_count": 189,
   "id": "d123b790",
   "metadata": {},
   "outputs": [
    {
     "data": {
      "text/html": [
       "<div>\n",
       "<style scoped>\n",
       "    .dataframe tbody tr th:only-of-type {\n",
       "        vertical-align: middle;\n",
       "    }\n",
       "\n",
       "    .dataframe tbody tr th {\n",
       "        vertical-align: top;\n",
       "    }\n",
       "\n",
       "    .dataframe thead th {\n",
       "        text-align: right;\n",
       "    }\n",
       "</style>\n",
       "<table border=\"1\" class=\"dataframe\">\n",
       "  <thead>\n",
       "    <tr style=\"text-align: right;\">\n",
       "      <th></th>\n",
       "      <th>0</th>\n",
       "      <th>1</th>\n",
       "      <th>2</th>\n",
       "      <th>3</th>\n",
       "      <th>4</th>\n",
       "      <th>5</th>\n",
       "      <th>6</th>\n",
       "      <th>7</th>\n",
       "      <th>8</th>\n",
       "      <th>9</th>\n",
       "      <th>...</th>\n",
       "      <th>118</th>\n",
       "      <th>119</th>\n",
       "      <th>120</th>\n",
       "      <th>121</th>\n",
       "      <th>122</th>\n",
       "      <th>123</th>\n",
       "      <th>124</th>\n",
       "      <th>125</th>\n",
       "      <th>126</th>\n",
       "      <th>127</th>\n",
       "    </tr>\n",
       "  </thead>\n",
       "  <tbody>\n",
       "    <tr>\n",
       "      <th>0</th>\n",
       "      <td>8</td>\n",
       "      <td>NaN</td>\n",
       "      <td>NaN</td>\n",
       "      <td>Lakewoodcity</td>\n",
       "      <td>1</td>\n",
       "      <td>0.19</td>\n",
       "      <td>0.33</td>\n",
       "      <td>0.02</td>\n",
       "      <td>0.90</td>\n",
       "      <td>0.12</td>\n",
       "      <td>...</td>\n",
       "      <td>0.12</td>\n",
       "      <td>0.26</td>\n",
       "      <td>0.20</td>\n",
       "      <td>0.06</td>\n",
       "      <td>0.04</td>\n",
       "      <td>0.9</td>\n",
       "      <td>0.5</td>\n",
       "      <td>0.32</td>\n",
       "      <td>0.14</td>\n",
       "      <td>0.20</td>\n",
       "    </tr>\n",
       "    <tr>\n",
       "      <th>1</th>\n",
       "      <td>53</td>\n",
       "      <td>NaN</td>\n",
       "      <td>NaN</td>\n",
       "      <td>Tukwilacity</td>\n",
       "      <td>1</td>\n",
       "      <td>0.00</td>\n",
       "      <td>0.16</td>\n",
       "      <td>0.12</td>\n",
       "      <td>0.74</td>\n",
       "      <td>0.45</td>\n",
       "      <td>...</td>\n",
       "      <td>0.02</td>\n",
       "      <td>0.12</td>\n",
       "      <td>0.45</td>\n",
       "      <td>NaN</td>\n",
       "      <td>NaN</td>\n",
       "      <td>NaN</td>\n",
       "      <td>NaN</td>\n",
       "      <td>0.00</td>\n",
       "      <td>NaN</td>\n",
       "      <td>0.67</td>\n",
       "    </tr>\n",
       "    <tr>\n",
       "      <th>2</th>\n",
       "      <td>24</td>\n",
       "      <td>NaN</td>\n",
       "      <td>NaN</td>\n",
       "      <td>Aberdeentown</td>\n",
       "      <td>1</td>\n",
       "      <td>0.00</td>\n",
       "      <td>0.42</td>\n",
       "      <td>0.49</td>\n",
       "      <td>0.56</td>\n",
       "      <td>0.17</td>\n",
       "      <td>...</td>\n",
       "      <td>0.01</td>\n",
       "      <td>0.21</td>\n",
       "      <td>0.02</td>\n",
       "      <td>NaN</td>\n",
       "      <td>NaN</td>\n",
       "      <td>NaN</td>\n",
       "      <td>NaN</td>\n",
       "      <td>0.00</td>\n",
       "      <td>NaN</td>\n",
       "      <td>0.43</td>\n",
       "    </tr>\n",
       "    <tr>\n",
       "      <th>3</th>\n",
       "      <td>34</td>\n",
       "      <td>5.0</td>\n",
       "      <td>81440.0</td>\n",
       "      <td>Willingborotownship</td>\n",
       "      <td>1</td>\n",
       "      <td>0.04</td>\n",
       "      <td>0.77</td>\n",
       "      <td>1.00</td>\n",
       "      <td>0.08</td>\n",
       "      <td>0.12</td>\n",
       "      <td>...</td>\n",
       "      <td>0.02</td>\n",
       "      <td>0.39</td>\n",
       "      <td>0.28</td>\n",
       "      <td>NaN</td>\n",
       "      <td>NaN</td>\n",
       "      <td>NaN</td>\n",
       "      <td>NaN</td>\n",
       "      <td>0.00</td>\n",
       "      <td>NaN</td>\n",
       "      <td>0.12</td>\n",
       "    </tr>\n",
       "    <tr>\n",
       "      <th>4</th>\n",
       "      <td>42</td>\n",
       "      <td>95.0</td>\n",
       "      <td>6096.0</td>\n",
       "      <td>Bethlehemtownship</td>\n",
       "      <td>1</td>\n",
       "      <td>0.01</td>\n",
       "      <td>0.55</td>\n",
       "      <td>0.02</td>\n",
       "      <td>0.95</td>\n",
       "      <td>0.09</td>\n",
       "      <td>...</td>\n",
       "      <td>0.04</td>\n",
       "      <td>0.09</td>\n",
       "      <td>0.02</td>\n",
       "      <td>NaN</td>\n",
       "      <td>NaN</td>\n",
       "      <td>NaN</td>\n",
       "      <td>NaN</td>\n",
       "      <td>0.00</td>\n",
       "      <td>NaN</td>\n",
       "      <td>0.03</td>\n",
       "    </tr>\n",
       "  </tbody>\n",
       "</table>\n",
       "<p>5 rows × 128 columns</p>\n",
       "</div>"
      ],
      "text/plain": [
       "   0     1        2                    3    4     5     6     7     8     9    \\\n",
       "0    8   NaN      NaN         Lakewoodcity    1  0.19  0.33  0.02  0.90  0.12   \n",
       "1   53   NaN      NaN          Tukwilacity    1  0.00  0.16  0.12  0.74  0.45   \n",
       "2   24   NaN      NaN         Aberdeentown    1  0.00  0.42  0.49  0.56  0.17   \n",
       "3   34   5.0  81440.0  Willingborotownship    1  0.04  0.77  1.00  0.08  0.12   \n",
       "4   42  95.0   6096.0    Bethlehemtownship    1  0.01  0.55  0.02  0.95  0.09   \n",
       "\n",
       "   ...   118   119   120   121   122  123  124   125   126   127  \n",
       "0  ...  0.12  0.26  0.20  0.06  0.04  0.9  0.5  0.32  0.14  0.20  \n",
       "1  ...  0.02  0.12  0.45   NaN   NaN  NaN  NaN  0.00   NaN  0.67  \n",
       "2  ...  0.01  0.21  0.02   NaN   NaN  NaN  NaN  0.00   NaN  0.43  \n",
       "3  ...  0.02  0.39  0.28   NaN   NaN  NaN  NaN  0.00   NaN  0.12  \n",
       "4  ...  0.04  0.09  0.02   NaN   NaN  NaN  NaN  0.00   NaN  0.03  \n",
       "\n",
       "[5 rows x 128 columns]"
      ]
     },
     "execution_count": 189,
     "metadata": {},
     "output_type": "execute_result"
    }
   ],
   "source": [
    "communities.head()"
   ]
  },
  {
   "cell_type": "code",
   "execution_count": 190,
   "id": "178253cb",
   "metadata": {},
   "outputs": [],
   "source": [
    "communities.columns = ['state', 'county', 'community', 'communityname', 'fold', 'population',\n",
    "    'householdsize', 'racepctblack', 'racePctWhite', 'racePctAsian',\n",
    "    'racePctHisp', 'agePct12t21', 'agePct12t29', 'agePct16t24', 'agePct65up',\n",
    "    'numbUrban', 'pctUrban', 'medIncome', 'pctWWage', 'pctWFarmSelf',\n",
    "    'pctWInvInc', 'pctWSocSec', 'pctWPubAsst', 'pctWRetire', 'medFamInc',\n",
    "    'perCapInc', 'whitePerCap', 'blackPerCap', 'indianPerCap', 'AsianPerCap',\n",
    "    'OtherPerCap', 'HispPerCap', 'NumUnderPov', 'PctPopUnderPov',\n",
    "    'PctLess9thGrade', 'PctNotHSGrad', 'PctBSorMore', 'PctUnemployed',\n",
    "    'PctEmploy', 'PctEmplManu', 'PctEmplProfServ', 'PctOccupManu',\n",
    "    'PctOccupMgmtProf', 'MalePctDivorce', 'MalePctNevMarr', 'FemalePctDiv',\n",
    "    'TotalPctDiv', 'PersPerFam', 'PctFam2Par', 'PctKids2Par',\n",
    "    'PctYoungKids2Par', 'PctTeen2Par', 'PctWorkMomYoungKids', 'PctWorkMom',\n",
    "    'NumIlleg', 'PctIlleg', 'NumImmig', 'PctImmigRecent', 'PctImmigRec5',\n",
    "    'PctImmigRec8', 'PctImmigRec10', 'PctRecentImmig', 'PctRecImmig5',\n",
    "    'PctRecImmig8', 'PctRecImmig10', 'PctSpeakEnglOnly', 'PctNotSpeakEnglWell',\n",
    "    'PctLargHouseFam', 'PctLargHouseOccup', 'PersPerOccupHous',\n",
    "    'PersPerOwnOccHous', 'PersPerRentOccHous', 'PctPersOwnOccup',\n",
    "    'PctPersDenseHous', 'PctHousLess3BR', 'MedNumBR', 'HousVacant',\n",
    "    'PctHousOccup', 'PctHousOwnOcc', 'PctVacantBoarded', 'PctVacMore6Mos',\n",
    "    'MedYrHousBuilt', 'PctHousNoPhone', 'PctWOFullPlumb', 'OwnOccLowQuart',\n",
    "    'OwnOccMedVal', 'OwnOccHiQuart', 'RentLowQ', 'RentMedian', 'RentHighQ',\n",
    "    'MedRent', 'MedRentPctHousInc', 'MedOwnCostPctInc', 'MedOwnCostPctIncNoMtg',\n",
    "    'NumInShelters', 'NumStreet', 'PctForeignBorn', 'PctBornSameState',\n",
    "    'PctSameHouse85', 'PctSameCity85', 'PctSameState85', 'LemasSwornFT',\n",
    "    'LemasSwFTPerPop', 'LemasSwFTFieldOps', 'LemasSwFTFieldPerPop',\n",
    "    'LemasTotalReq', 'LemasTotReqPerPop', 'PolicReqPerOffic', 'PolicPerPop',\n",
    "    'RacialMatchCommPol', 'PctPolicWhite', 'PctPolicBlack', 'PctPolicHisp',\n",
    "    'PctPolicAsian', 'PctPolicMinor', 'OfficAssgnDrugUnits',\n",
    "    'NumKindsDrugsSeiz', 'PolicAveOTWorked', 'LandArea', 'PopDens',\n",
    "    'PctUsePubTrans', 'PolicCars', 'PolicOperBudg', 'LemasPctPolicOnPatr',\n",
    "    'LemasGangUnitDeploy', 'LemasPctOfficDrugUn', 'PolicBudgPerPop',\n",
    "    'ViolentCrimesPerPop'\n",
    "  ]"
   ]
  },
  {
   "cell_type": "code",
   "execution_count": 191,
   "id": "f2cd8232",
   "metadata": {},
   "outputs": [
    {
     "data": {
      "text/html": [
       "<div>\n",
       "<style scoped>\n",
       "    .dataframe tbody tr th:only-of-type {\n",
       "        vertical-align: middle;\n",
       "    }\n",
       "\n",
       "    .dataframe tbody tr th {\n",
       "        vertical-align: top;\n",
       "    }\n",
       "\n",
       "    .dataframe thead th {\n",
       "        text-align: right;\n",
       "    }\n",
       "</style>\n",
       "<table border=\"1\" class=\"dataframe\">\n",
       "  <thead>\n",
       "    <tr style=\"text-align: right;\">\n",
       "      <th></th>\n",
       "      <th>state</th>\n",
       "      <th>county</th>\n",
       "      <th>community</th>\n",
       "      <th>communityname</th>\n",
       "      <th>fold</th>\n",
       "      <th>population</th>\n",
       "      <th>householdsize</th>\n",
       "      <th>racepctblack</th>\n",
       "      <th>racePctWhite</th>\n",
       "      <th>racePctAsian</th>\n",
       "      <th>...</th>\n",
       "      <th>LandArea</th>\n",
       "      <th>PopDens</th>\n",
       "      <th>PctUsePubTrans</th>\n",
       "      <th>PolicCars</th>\n",
       "      <th>PolicOperBudg</th>\n",
       "      <th>LemasPctPolicOnPatr</th>\n",
       "      <th>LemasGangUnitDeploy</th>\n",
       "      <th>LemasPctOfficDrugUn</th>\n",
       "      <th>PolicBudgPerPop</th>\n",
       "      <th>ViolentCrimesPerPop</th>\n",
       "    </tr>\n",
       "  </thead>\n",
       "  <tbody>\n",
       "    <tr>\n",
       "      <th>0</th>\n",
       "      <td>8</td>\n",
       "      <td>NaN</td>\n",
       "      <td>NaN</td>\n",
       "      <td>Lakewoodcity</td>\n",
       "      <td>1</td>\n",
       "      <td>0.19</td>\n",
       "      <td>0.33</td>\n",
       "      <td>0.02</td>\n",
       "      <td>0.90</td>\n",
       "      <td>0.12</td>\n",
       "      <td>...</td>\n",
       "      <td>0.12</td>\n",
       "      <td>0.26</td>\n",
       "      <td>0.20</td>\n",
       "      <td>0.06</td>\n",
       "      <td>0.04</td>\n",
       "      <td>0.9</td>\n",
       "      <td>0.5</td>\n",
       "      <td>0.32</td>\n",
       "      <td>0.14</td>\n",
       "      <td>0.20</td>\n",
       "    </tr>\n",
       "    <tr>\n",
       "      <th>1</th>\n",
       "      <td>53</td>\n",
       "      <td>NaN</td>\n",
       "      <td>NaN</td>\n",
       "      <td>Tukwilacity</td>\n",
       "      <td>1</td>\n",
       "      <td>0.00</td>\n",
       "      <td>0.16</td>\n",
       "      <td>0.12</td>\n",
       "      <td>0.74</td>\n",
       "      <td>0.45</td>\n",
       "      <td>...</td>\n",
       "      <td>0.02</td>\n",
       "      <td>0.12</td>\n",
       "      <td>0.45</td>\n",
       "      <td>NaN</td>\n",
       "      <td>NaN</td>\n",
       "      <td>NaN</td>\n",
       "      <td>NaN</td>\n",
       "      <td>0.00</td>\n",
       "      <td>NaN</td>\n",
       "      <td>0.67</td>\n",
       "    </tr>\n",
       "    <tr>\n",
       "      <th>2</th>\n",
       "      <td>24</td>\n",
       "      <td>NaN</td>\n",
       "      <td>NaN</td>\n",
       "      <td>Aberdeentown</td>\n",
       "      <td>1</td>\n",
       "      <td>0.00</td>\n",
       "      <td>0.42</td>\n",
       "      <td>0.49</td>\n",
       "      <td>0.56</td>\n",
       "      <td>0.17</td>\n",
       "      <td>...</td>\n",
       "      <td>0.01</td>\n",
       "      <td>0.21</td>\n",
       "      <td>0.02</td>\n",
       "      <td>NaN</td>\n",
       "      <td>NaN</td>\n",
       "      <td>NaN</td>\n",
       "      <td>NaN</td>\n",
       "      <td>0.00</td>\n",
       "      <td>NaN</td>\n",
       "      <td>0.43</td>\n",
       "    </tr>\n",
       "    <tr>\n",
       "      <th>3</th>\n",
       "      <td>34</td>\n",
       "      <td>5.0</td>\n",
       "      <td>81440.0</td>\n",
       "      <td>Willingborotownship</td>\n",
       "      <td>1</td>\n",
       "      <td>0.04</td>\n",
       "      <td>0.77</td>\n",
       "      <td>1.00</td>\n",
       "      <td>0.08</td>\n",
       "      <td>0.12</td>\n",
       "      <td>...</td>\n",
       "      <td>0.02</td>\n",
       "      <td>0.39</td>\n",
       "      <td>0.28</td>\n",
       "      <td>NaN</td>\n",
       "      <td>NaN</td>\n",
       "      <td>NaN</td>\n",
       "      <td>NaN</td>\n",
       "      <td>0.00</td>\n",
       "      <td>NaN</td>\n",
       "      <td>0.12</td>\n",
       "    </tr>\n",
       "    <tr>\n",
       "      <th>4</th>\n",
       "      <td>42</td>\n",
       "      <td>95.0</td>\n",
       "      <td>6096.0</td>\n",
       "      <td>Bethlehemtownship</td>\n",
       "      <td>1</td>\n",
       "      <td>0.01</td>\n",
       "      <td>0.55</td>\n",
       "      <td>0.02</td>\n",
       "      <td>0.95</td>\n",
       "      <td>0.09</td>\n",
       "      <td>...</td>\n",
       "      <td>0.04</td>\n",
       "      <td>0.09</td>\n",
       "      <td>0.02</td>\n",
       "      <td>NaN</td>\n",
       "      <td>NaN</td>\n",
       "      <td>NaN</td>\n",
       "      <td>NaN</td>\n",
       "      <td>0.00</td>\n",
       "      <td>NaN</td>\n",
       "      <td>0.03</td>\n",
       "    </tr>\n",
       "  </tbody>\n",
       "</table>\n",
       "<p>5 rows × 128 columns</p>\n",
       "</div>"
      ],
      "text/plain": [
       "   state  county  community        communityname  fold  population  \\\n",
       "0      8     NaN        NaN         Lakewoodcity     1        0.19   \n",
       "1     53     NaN        NaN          Tukwilacity     1        0.00   \n",
       "2     24     NaN        NaN         Aberdeentown     1        0.00   \n",
       "3     34     5.0    81440.0  Willingborotownship     1        0.04   \n",
       "4     42    95.0     6096.0    Bethlehemtownship     1        0.01   \n",
       "\n",
       "   householdsize  racepctblack  racePctWhite  racePctAsian  ...  LandArea  \\\n",
       "0           0.33          0.02          0.90          0.12  ...      0.12   \n",
       "1           0.16          0.12          0.74          0.45  ...      0.02   \n",
       "2           0.42          0.49          0.56          0.17  ...      0.01   \n",
       "3           0.77          1.00          0.08          0.12  ...      0.02   \n",
       "4           0.55          0.02          0.95          0.09  ...      0.04   \n",
       "\n",
       "   PopDens  PctUsePubTrans  PolicCars  PolicOperBudg  LemasPctPolicOnPatr  \\\n",
       "0     0.26            0.20       0.06           0.04                  0.9   \n",
       "1     0.12            0.45        NaN            NaN                  NaN   \n",
       "2     0.21            0.02        NaN            NaN                  NaN   \n",
       "3     0.39            0.28        NaN            NaN                  NaN   \n",
       "4     0.09            0.02        NaN            NaN                  NaN   \n",
       "\n",
       "   LemasGangUnitDeploy  LemasPctOfficDrugUn  PolicBudgPerPop  \\\n",
       "0                  0.5                 0.32             0.14   \n",
       "1                  NaN                 0.00              NaN   \n",
       "2                  NaN                 0.00              NaN   \n",
       "3                  NaN                 0.00              NaN   \n",
       "4                  NaN                 0.00              NaN   \n",
       "\n",
       "   ViolentCrimesPerPop  \n",
       "0                 0.20  \n",
       "1                 0.67  \n",
       "2                 0.43  \n",
       "3                 0.12  \n",
       "4                 0.03  \n",
       "\n",
       "[5 rows x 128 columns]"
      ]
     },
     "execution_count": 191,
     "metadata": {},
     "output_type": "execute_result"
    }
   ],
   "source": [
    "communities.head()"
   ]
  },
  {
   "cell_type": "code",
   "execution_count": 192,
   "id": "2fc6643e",
   "metadata": {},
   "outputs": [],
   "source": [
    "Y = communities['ViolentCrimesPerPop']"
   ]
  },
  {
   "cell_type": "code",
   "execution_count": 193,
   "id": "9ad28722",
   "metadata": {},
   "outputs": [],
   "source": [
    "communities = communities.drop(communities.columns[:5], axis=1)"
   ]
  },
  {
   "cell_type": "code",
   "execution_count": 194,
   "id": "8334ebb0",
   "metadata": {},
   "outputs": [],
   "source": [
    "communities = communities.drop(['ViolentCrimesPerPop'], axis=1)"
   ]
  },
  {
   "cell_type": "code",
   "execution_count": 195,
   "id": "2643513c",
   "metadata": {},
   "outputs": [
    {
     "data": {
      "text/plain": [
       "(1994, 122)"
      ]
     },
     "execution_count": 195,
     "metadata": {},
     "output_type": "execute_result"
    }
   ],
   "source": [
    "communities.shape"
   ]
  },
  {
   "cell_type": "code",
   "execution_count": 196,
   "id": "c7b9a4f7",
   "metadata": {},
   "outputs": [],
   "source": [
    "X = communities"
   ]
  },
  {
   "cell_type": "code",
   "execution_count": 197,
   "id": "0d095958",
   "metadata": {},
   "outputs": [
    {
     "data": {
      "text/plain": [
       "True"
      ]
     },
     "execution_count": 197,
     "metadata": {},
     "output_type": "execute_result"
    }
   ],
   "source": [
    "X.isnull().values.any()"
   ]
  },
  {
   "cell_type": "code",
   "execution_count": 198,
   "id": "ca1fd8f3",
   "metadata": {},
   "outputs": [],
   "source": [
    "x_train, x_test, y_train, y_test = train_test_split( X, Y, test_size = 0.1, random_state = 13)"
   ]
  },
  {
   "cell_type": "code",
   "execution_count": 199,
   "id": "72b42671",
   "metadata": {},
   "outputs": [
    {
     "data": {
      "text/plain": [
       "(1794, 122)"
      ]
     },
     "execution_count": 199,
     "metadata": {},
     "output_type": "execute_result"
    }
   ],
   "source": [
    "x_train.shape"
   ]
  },
  {
   "cell_type": "code",
   "execution_count": 200,
   "id": "519a1188",
   "metadata": {},
   "outputs": [],
   "source": [
    "medians = x_train.median()\n",
    "for column in x_train.columns:\n",
    "    x_train[column].fillna(medians[column], inplace=True)\n",
    "for column in x_test.columns:\n",
    "    x_test[column].fillna(medians[column], inplace=True)"
   ]
  },
  {
   "cell_type": "markdown",
   "id": "d9752b14",
   "metadata": {},
   "source": [
    "### Yes will need to scale the data as we will be computing a linear model with regularization. Unscaled data does not converge fast enough for linear model."
   ]
  },
  {
   "cell_type": "code",
   "execution_count": 201,
   "id": "ca7282eb",
   "metadata": {
    "scrolled": true
   },
   "outputs": [
    {
     "data": {
      "text/html": [
       "<style>#sk-container-id-14 {color: black;}#sk-container-id-14 pre{padding: 0;}#sk-container-id-14 div.sk-toggleable {background-color: white;}#sk-container-id-14 label.sk-toggleable__label {cursor: pointer;display: block;width: 100%;margin-bottom: 0;padding: 0.3em;box-sizing: border-box;text-align: center;}#sk-container-id-14 label.sk-toggleable__label-arrow:before {content: \"▸\";float: left;margin-right: 0.25em;color: #696969;}#sk-container-id-14 label.sk-toggleable__label-arrow:hover:before {color: black;}#sk-container-id-14 div.sk-estimator:hover label.sk-toggleable__label-arrow:before {color: black;}#sk-container-id-14 div.sk-toggleable__content {max-height: 0;max-width: 0;overflow: hidden;text-align: left;background-color: #f0f8ff;}#sk-container-id-14 div.sk-toggleable__content pre {margin: 0.2em;color: black;border-radius: 0.25em;background-color: #f0f8ff;}#sk-container-id-14 input.sk-toggleable__control:checked~div.sk-toggleable__content {max-height: 200px;max-width: 100%;overflow: auto;}#sk-container-id-14 input.sk-toggleable__control:checked~label.sk-toggleable__label-arrow:before {content: \"▾\";}#sk-container-id-14 div.sk-estimator input.sk-toggleable__control:checked~label.sk-toggleable__label {background-color: #d4ebff;}#sk-container-id-14 div.sk-label input.sk-toggleable__control:checked~label.sk-toggleable__label {background-color: #d4ebff;}#sk-container-id-14 input.sk-hidden--visually {border: 0;clip: rect(1px 1px 1px 1px);clip: rect(1px, 1px, 1px, 1px);height: 1px;margin: -1px;overflow: hidden;padding: 0;position: absolute;width: 1px;}#sk-container-id-14 div.sk-estimator {font-family: monospace;background-color: #f0f8ff;border: 1px dotted black;border-radius: 0.25em;box-sizing: border-box;margin-bottom: 0.5em;}#sk-container-id-14 div.sk-estimator:hover {background-color: #d4ebff;}#sk-container-id-14 div.sk-parallel-item::after {content: \"\";width: 100%;border-bottom: 1px solid gray;flex-grow: 1;}#sk-container-id-14 div.sk-label:hover label.sk-toggleable__label {background-color: #d4ebff;}#sk-container-id-14 div.sk-serial::before {content: \"\";position: absolute;border-left: 1px solid gray;box-sizing: border-box;top: 0;bottom: 0;left: 50%;z-index: 0;}#sk-container-id-14 div.sk-serial {display: flex;flex-direction: column;align-items: center;background-color: white;padding-right: 0.2em;padding-left: 0.2em;position: relative;}#sk-container-id-14 div.sk-item {position: relative;z-index: 1;}#sk-container-id-14 div.sk-parallel {display: flex;align-items: stretch;justify-content: center;background-color: white;position: relative;}#sk-container-id-14 div.sk-item::before, #sk-container-id-14 div.sk-parallel-item::before {content: \"\";position: absolute;border-left: 1px solid gray;box-sizing: border-box;top: 0;bottom: 0;left: 50%;z-index: -1;}#sk-container-id-14 div.sk-parallel-item {display: flex;flex-direction: column;z-index: 1;position: relative;background-color: white;}#sk-container-id-14 div.sk-parallel-item:first-child::after {align-self: flex-end;width: 50%;}#sk-container-id-14 div.sk-parallel-item:last-child::after {align-self: flex-start;width: 50%;}#sk-container-id-14 div.sk-parallel-item:only-child::after {width: 0;}#sk-container-id-14 div.sk-dashed-wrapped {border: 1px dashed gray;margin: 0 0.4em 0.5em 0.4em;box-sizing: border-box;padding-bottom: 0.4em;background-color: white;}#sk-container-id-14 div.sk-label label {font-family: monospace;font-weight: bold;display: inline-block;line-height: 1.2em;}#sk-container-id-14 div.sk-label-container {text-align: center;}#sk-container-id-14 div.sk-container {/* jupyter's `normalize.less` sets `[hidden] { display: none; }` but bootstrap.min.css set `[hidden] { display: none !important; }` so we also need the `!important` here to be able to override the default hidden behavior on the sphinx rendered scikit-learn.org. See: https://github.com/scikit-learn/scikit-learn/issues/21755 */display: inline-block !important;position: relative;}#sk-container-id-14 div.sk-text-repr-fallback {display: none;}</style><div id=\"sk-container-id-14\" class=\"sk-top-container\"><div class=\"sk-text-repr-fallback\"><pre>StandardScaler()</pre><b>In a Jupyter environment, please rerun this cell to show the HTML representation or trust the notebook. <br />On GitHub, the HTML representation is unable to render, please try loading this page with nbviewer.org.</b></div><div class=\"sk-container\" hidden><div class=\"sk-item\"><div class=\"sk-estimator sk-toggleable\"><input class=\"sk-toggleable__control sk-hidden--visually\" id=\"sk-estimator-id-16\" type=\"checkbox\" checked><label for=\"sk-estimator-id-16\" class=\"sk-toggleable__label sk-toggleable__label-arrow\">StandardScaler</label><div class=\"sk-toggleable__content\"><pre>StandardScaler()</pre></div></div></div></div></div>"
      ],
      "text/plain": [
       "StandardScaler()"
      ]
     },
     "execution_count": 201,
     "metadata": {},
     "output_type": "execute_result"
    }
   ],
   "source": [
    "scaler = StandardScaler()\n",
    "scaler.fit(x_train)"
   ]
  },
  {
   "cell_type": "code",
   "execution_count": 202,
   "id": "e3523830",
   "metadata": {},
   "outputs": [],
   "source": [
    "X_train = pd.DataFrame(scaler.transform(x_train),columns = x_train.columns)\n",
    "X_test = pd.DataFrame(scaler.transform(x_test), columns = x_test.columns)"
   ]
  },
  {
   "cell_type": "code",
   "execution_count": 203,
   "id": "3baf96cb",
   "metadata": {},
   "outputs": [
    {
     "data": {
      "text/html": [
       "<div>\n",
       "<style scoped>\n",
       "    .dataframe tbody tr th:only-of-type {\n",
       "        vertical-align: middle;\n",
       "    }\n",
       "\n",
       "    .dataframe tbody tr th {\n",
       "        vertical-align: top;\n",
       "    }\n",
       "\n",
       "    .dataframe thead th {\n",
       "        text-align: right;\n",
       "    }\n",
       "</style>\n",
       "<table border=\"1\" class=\"dataframe\">\n",
       "  <thead>\n",
       "    <tr style=\"text-align: right;\">\n",
       "      <th></th>\n",
       "      <th>population</th>\n",
       "      <th>householdsize</th>\n",
       "      <th>racepctblack</th>\n",
       "      <th>racePctWhite</th>\n",
       "      <th>racePctAsian</th>\n",
       "      <th>racePctHisp</th>\n",
       "      <th>agePct12t21</th>\n",
       "      <th>agePct12t29</th>\n",
       "      <th>agePct16t24</th>\n",
       "      <th>agePct65up</th>\n",
       "      <th>...</th>\n",
       "      <th>PolicAveOTWorked</th>\n",
       "      <th>LandArea</th>\n",
       "      <th>PopDens</th>\n",
       "      <th>PctUsePubTrans</th>\n",
       "      <th>PolicCars</th>\n",
       "      <th>PolicOperBudg</th>\n",
       "      <th>LemasPctPolicOnPatr</th>\n",
       "      <th>LemasGangUnitDeploy</th>\n",
       "      <th>LemasPctOfficDrugUn</th>\n",
       "      <th>PolicBudgPerPop</th>\n",
       "    </tr>\n",
       "  </thead>\n",
       "  <tbody>\n",
       "    <tr>\n",
       "      <th>0</th>\n",
       "      <td>0.339896</td>\n",
       "      <td>-0.810953</td>\n",
       "      <td>-0.431946</td>\n",
       "      <td>0.352570</td>\n",
       "      <td>-0.545257</td>\n",
       "      <td>-0.064188</td>\n",
       "      <td>-0.536762</td>\n",
       "      <td>-0.029822</td>\n",
       "      <td>-0.218032</td>\n",
       "      <td>0.641726</td>\n",
       "      <td>...</td>\n",
       "      <td>-0.846782</td>\n",
       "      <td>-0.414848</td>\n",
       "      <td>2.258614</td>\n",
       "      <td>0.082841</td>\n",
       "      <td>-0.369049</td>\n",
       "      <td>-0.460508</td>\n",
       "      <td>1.092844</td>\n",
       "      <td>0.054322</td>\n",
       "      <td>3.742496</td>\n",
       "      <td>-0.849501</td>\n",
       "    </tr>\n",
       "    <tr>\n",
       "      <th>1</th>\n",
       "      <td>-0.137173</td>\n",
       "      <td>1.082111</td>\n",
       "      <td>-0.632836</td>\n",
       "      <td>-2.289602</td>\n",
       "      <td>4.072706</td>\n",
       "      <td>2.247422</td>\n",
       "      <td>-0.150112</td>\n",
       "      <td>0.247379</td>\n",
       "      <td>0.081424</td>\n",
       "      <td>-0.022333</td>\n",
       "      <td>...</td>\n",
       "      <td>-0.094845</td>\n",
       "      <td>-0.507243</td>\n",
       "      <td>2.501418</td>\n",
       "      <td>0.479151</td>\n",
       "      <td>-0.144731</td>\n",
       "      <td>-0.124538</td>\n",
       "      <td>0.090967</td>\n",
       "      <td>0.054322</td>\n",
       "      <td>-0.394821</td>\n",
       "      <td>-0.106374</td>\n",
       "    </tr>\n",
       "    <tr>\n",
       "      <th>2</th>\n",
       "      <td>-0.296196</td>\n",
       "      <td>-1.421619</td>\n",
       "      <td>0.813569</td>\n",
       "      <td>-0.844664</td>\n",
       "      <td>1.908036</td>\n",
       "      <td>-0.321033</td>\n",
       "      <td>-0.278995</td>\n",
       "      <td>2.049185</td>\n",
       "      <td>1.458919</td>\n",
       "      <td>-1.405789</td>\n",
       "      <td>...</td>\n",
       "      <td>-0.094845</td>\n",
       "      <td>-0.507243</td>\n",
       "      <td>0.316186</td>\n",
       "      <td>1.624048</td>\n",
       "      <td>-0.144731</td>\n",
       "      <td>-0.124538</td>\n",
       "      <td>0.090967</td>\n",
       "      <td>0.054322</td>\n",
       "      <td>-0.394821</td>\n",
       "      <td>-0.106374</td>\n",
       "    </tr>\n",
       "    <tr>\n",
       "      <th>3</th>\n",
       "      <td>-0.296196</td>\n",
       "      <td>-0.566687</td>\n",
       "      <td>3.304600</td>\n",
       "      <td>-2.743726</td>\n",
       "      <td>-0.641464</td>\n",
       "      <td>-0.577878</td>\n",
       "      <td>0.236537</td>\n",
       "      <td>-0.307022</td>\n",
       "      <td>-0.397705</td>\n",
       "      <td>1.029094</td>\n",
       "      <td>...</td>\n",
       "      <td>-0.094845</td>\n",
       "      <td>-0.230059</td>\n",
       "      <td>-0.509346</td>\n",
       "      <td>-0.533642</td>\n",
       "      <td>-0.144731</td>\n",
       "      <td>-0.124538</td>\n",
       "      <td>0.090967</td>\n",
       "      <td>0.054322</td>\n",
       "      <td>-0.394821</td>\n",
       "      <td>-0.106374</td>\n",
       "    </tr>\n",
       "    <tr>\n",
       "      <th>4</th>\n",
       "      <td>-0.455219</td>\n",
       "      <td>-0.322421</td>\n",
       "      <td>-0.512302</td>\n",
       "      <td>0.847978</td>\n",
       "      <td>-0.689568</td>\n",
       "      <td>-0.577878</td>\n",
       "      <td>-0.343437</td>\n",
       "      <td>-0.861424</td>\n",
       "      <td>-0.577378</td>\n",
       "      <td>0.697065</td>\n",
       "      <td>...</td>\n",
       "      <td>-0.094845</td>\n",
       "      <td>0.231913</td>\n",
       "      <td>-0.994953</td>\n",
       "      <td>-0.489608</td>\n",
       "      <td>-0.144731</td>\n",
       "      <td>-0.124538</td>\n",
       "      <td>0.090967</td>\n",
       "      <td>0.054322</td>\n",
       "      <td>-0.394821</td>\n",
       "      <td>-0.106374</td>\n",
       "    </tr>\n",
       "    <tr>\n",
       "      <th>...</th>\n",
       "      <td>...</td>\n",
       "      <td>...</td>\n",
       "      <td>...</td>\n",
       "      <td>...</td>\n",
       "      <td>...</td>\n",
       "      <td>...</td>\n",
       "      <td>...</td>\n",
       "      <td>...</td>\n",
       "      <td>...</td>\n",
       "      <td>...</td>\n",
       "      <td>...</td>\n",
       "      <td>...</td>\n",
       "      <td>...</td>\n",
       "      <td>...</td>\n",
       "      <td>...</td>\n",
       "      <td>...</td>\n",
       "      <td>...</td>\n",
       "      <td>...</td>\n",
       "      <td>...</td>\n",
       "      <td>...</td>\n",
       "      <td>...</td>\n",
       "    </tr>\n",
       "    <tr>\n",
       "      <th>1789</th>\n",
       "      <td>-0.375707</td>\n",
       "      <td>-0.933087</td>\n",
       "      <td>2.621576</td>\n",
       "      <td>-1.711627</td>\n",
       "      <td>-0.689568</td>\n",
       "      <td>-0.577878</td>\n",
       "      <td>-0.278995</td>\n",
       "      <td>-0.584223</td>\n",
       "      <td>-0.337814</td>\n",
       "      <td>1.305785</td>\n",
       "      <td>...</td>\n",
       "      <td>-0.094845</td>\n",
       "      <td>-0.414848</td>\n",
       "      <td>-0.460785</td>\n",
       "      <td>-0.709780</td>\n",
       "      <td>-0.144731</td>\n",
       "      <td>-0.124538</td>\n",
       "      <td>0.090967</td>\n",
       "      <td>0.054322</td>\n",
       "      <td>-0.394821</td>\n",
       "      <td>-0.106374</td>\n",
       "    </tr>\n",
       "    <tr>\n",
       "      <th>1790</th>\n",
       "      <td>-0.296196</td>\n",
       "      <td>-0.444554</td>\n",
       "      <td>-0.673014</td>\n",
       "      <td>0.930546</td>\n",
       "      <td>-0.545257</td>\n",
       "      <td>-0.577878</td>\n",
       "      <td>-0.278995</td>\n",
       "      <td>-0.307022</td>\n",
       "      <td>-0.218032</td>\n",
       "      <td>0.254359</td>\n",
       "      <td>...</td>\n",
       "      <td>-0.094845</td>\n",
       "      <td>0.971069</td>\n",
       "      <td>-0.994953</td>\n",
       "      <td>-0.577677</td>\n",
       "      <td>-0.144731</td>\n",
       "      <td>-0.124538</td>\n",
       "      <td>0.090967</td>\n",
       "      <td>0.054322</td>\n",
       "      <td>-0.394821</td>\n",
       "      <td>-0.106374</td>\n",
       "    </tr>\n",
       "    <tr>\n",
       "      <th>1791</th>\n",
       "      <td>0.180873</td>\n",
       "      <td>-0.444554</td>\n",
       "      <td>-0.391768</td>\n",
       "      <td>0.393854</td>\n",
       "      <td>-0.545257</td>\n",
       "      <td>0.449503</td>\n",
       "      <td>-0.601203</td>\n",
       "      <td>-0.099122</td>\n",
       "      <td>-0.397705</td>\n",
       "      <td>0.254359</td>\n",
       "      <td>...</td>\n",
       "      <td>0.549672</td>\n",
       "      <td>0.047124</td>\n",
       "      <td>-0.120860</td>\n",
       "      <td>-0.533642</td>\n",
       "      <td>-0.817684</td>\n",
       "      <td>-0.460508</td>\n",
       "      <td>-0.465631</td>\n",
       "      <td>3.099763</td>\n",
       "      <td>1.425598</td>\n",
       "      <td>-0.700876</td>\n",
       "    </tr>\n",
       "    <tr>\n",
       "      <th>1792</th>\n",
       "      <td>-0.296196</td>\n",
       "      <td>0.043979</td>\n",
       "      <td>-0.673014</td>\n",
       "      <td>0.806694</td>\n",
       "      <td>0.031989</td>\n",
       "      <td>-0.577878</td>\n",
       "      <td>-0.085671</td>\n",
       "      <td>-0.722824</td>\n",
       "      <td>-0.517487</td>\n",
       "      <td>-0.575715</td>\n",
       "      <td>...</td>\n",
       "      <td>-0.094845</td>\n",
       "      <td>-0.137665</td>\n",
       "      <td>-0.655028</td>\n",
       "      <td>-0.621711</td>\n",
       "      <td>-0.144731</td>\n",
       "      <td>-0.124538</td>\n",
       "      <td>0.090967</td>\n",
       "      <td>0.054322</td>\n",
       "      <td>-0.394821</td>\n",
       "      <td>-0.106374</td>\n",
       "    </tr>\n",
       "    <tr>\n",
       "      <th>1793</th>\n",
       "      <td>0.101362</td>\n",
       "      <td>-0.505620</td>\n",
       "      <td>0.251078</td>\n",
       "      <td>0.022299</td>\n",
       "      <td>-0.160426</td>\n",
       "      <td>-0.363841</td>\n",
       "      <td>-0.665645</td>\n",
       "      <td>0.039479</td>\n",
       "      <td>-0.098249</td>\n",
       "      <td>0.309697</td>\n",
       "      <td>...</td>\n",
       "      <td>-2.028396</td>\n",
       "      <td>-0.322454</td>\n",
       "      <td>0.898914</td>\n",
       "      <td>0.126875</td>\n",
       "      <td>-0.817684</td>\n",
       "      <td>-0.460508</td>\n",
       "      <td>2.094721</td>\n",
       "      <td>-2.991119</td>\n",
       "      <td>2.004823</td>\n",
       "      <td>-0.106374</td>\n",
       "    </tr>\n",
       "  </tbody>\n",
       "</table>\n",
       "<p>1794 rows × 122 columns</p>\n",
       "</div>"
      ],
      "text/plain": [
       "      population  householdsize  racepctblack  racePctWhite  racePctAsian  \\\n",
       "0       0.339896      -0.810953     -0.431946      0.352570     -0.545257   \n",
       "1      -0.137173       1.082111     -0.632836     -2.289602      4.072706   \n",
       "2      -0.296196      -1.421619      0.813569     -0.844664      1.908036   \n",
       "3      -0.296196      -0.566687      3.304600     -2.743726     -0.641464   \n",
       "4      -0.455219      -0.322421     -0.512302      0.847978     -0.689568   \n",
       "...          ...            ...           ...           ...           ...   \n",
       "1789   -0.375707      -0.933087      2.621576     -1.711627     -0.689568   \n",
       "1790   -0.296196      -0.444554     -0.673014      0.930546     -0.545257   \n",
       "1791    0.180873      -0.444554     -0.391768      0.393854     -0.545257   \n",
       "1792   -0.296196       0.043979     -0.673014      0.806694      0.031989   \n",
       "1793    0.101362      -0.505620      0.251078      0.022299     -0.160426   \n",
       "\n",
       "      racePctHisp  agePct12t21  agePct12t29  agePct16t24  agePct65up  ...  \\\n",
       "0       -0.064188    -0.536762    -0.029822    -0.218032    0.641726  ...   \n",
       "1        2.247422    -0.150112     0.247379     0.081424   -0.022333  ...   \n",
       "2       -0.321033    -0.278995     2.049185     1.458919   -1.405789  ...   \n",
       "3       -0.577878     0.236537    -0.307022    -0.397705    1.029094  ...   \n",
       "4       -0.577878    -0.343437    -0.861424    -0.577378    0.697065  ...   \n",
       "...           ...          ...          ...          ...         ...  ...   \n",
       "1789    -0.577878    -0.278995    -0.584223    -0.337814    1.305785  ...   \n",
       "1790    -0.577878    -0.278995    -0.307022    -0.218032    0.254359  ...   \n",
       "1791     0.449503    -0.601203    -0.099122    -0.397705    0.254359  ...   \n",
       "1792    -0.577878    -0.085671    -0.722824    -0.517487   -0.575715  ...   \n",
       "1793    -0.363841    -0.665645     0.039479    -0.098249    0.309697  ...   \n",
       "\n",
       "      PolicAveOTWorked  LandArea   PopDens  PctUsePubTrans  PolicCars  \\\n",
       "0            -0.846782 -0.414848  2.258614        0.082841  -0.369049   \n",
       "1            -0.094845 -0.507243  2.501418        0.479151  -0.144731   \n",
       "2            -0.094845 -0.507243  0.316186        1.624048  -0.144731   \n",
       "3            -0.094845 -0.230059 -0.509346       -0.533642  -0.144731   \n",
       "4            -0.094845  0.231913 -0.994953       -0.489608  -0.144731   \n",
       "...                ...       ...       ...             ...        ...   \n",
       "1789         -0.094845 -0.414848 -0.460785       -0.709780  -0.144731   \n",
       "1790         -0.094845  0.971069 -0.994953       -0.577677  -0.144731   \n",
       "1791          0.549672  0.047124 -0.120860       -0.533642  -0.817684   \n",
       "1792         -0.094845 -0.137665 -0.655028       -0.621711  -0.144731   \n",
       "1793         -2.028396 -0.322454  0.898914        0.126875  -0.817684   \n",
       "\n",
       "      PolicOperBudg  LemasPctPolicOnPatr  LemasGangUnitDeploy  \\\n",
       "0         -0.460508             1.092844             0.054322   \n",
       "1         -0.124538             0.090967             0.054322   \n",
       "2         -0.124538             0.090967             0.054322   \n",
       "3         -0.124538             0.090967             0.054322   \n",
       "4         -0.124538             0.090967             0.054322   \n",
       "...             ...                  ...                  ...   \n",
       "1789      -0.124538             0.090967             0.054322   \n",
       "1790      -0.124538             0.090967             0.054322   \n",
       "1791      -0.460508            -0.465631             3.099763   \n",
       "1792      -0.124538             0.090967             0.054322   \n",
       "1793      -0.460508             2.094721            -2.991119   \n",
       "\n",
       "      LemasPctOfficDrugUn  PolicBudgPerPop  \n",
       "0                3.742496        -0.849501  \n",
       "1               -0.394821        -0.106374  \n",
       "2               -0.394821        -0.106374  \n",
       "3               -0.394821        -0.106374  \n",
       "4               -0.394821        -0.106374  \n",
       "...                   ...              ...  \n",
       "1789            -0.394821        -0.106374  \n",
       "1790            -0.394821        -0.106374  \n",
       "1791             1.425598        -0.700876  \n",
       "1792            -0.394821        -0.106374  \n",
       "1793             2.004823        -0.106374  \n",
       "\n",
       "[1794 rows x 122 columns]"
      ]
     },
     "execution_count": 203,
     "metadata": {},
     "output_type": "execute_result"
    }
   ],
   "source": [
    "X_train"
   ]
  },
  {
   "cell_type": "code",
   "execution_count": 230,
   "id": "31518c5a",
   "metadata": {},
   "outputs": [],
   "source": [
    "correlations = [\n",
    "    np.abs(np.corrcoef(y_train, X_train.iloc[:,i])[0][1]) for i in range(X_train.shape[1])\n",
    "]\n",
    "corr_df = pd.DataFrame({'variables': X_train.columns, 'corr': correlations})\n",
    "corr_df = corr_df.reindex(corr_df['corr'].sort_values(ascending=False).index)"
   ]
  },
  {
   "cell_type": "code",
   "execution_count": 231,
   "id": "50617dc5",
   "metadata": {},
   "outputs": [
    {
     "data": {
      "text/html": [
       "<div>\n",
       "<style scoped>\n",
       "    .dataframe tbody tr th:only-of-type {\n",
       "        vertical-align: middle;\n",
       "    }\n",
       "\n",
       "    .dataframe tbody tr th {\n",
       "        vertical-align: top;\n",
       "    }\n",
       "\n",
       "    .dataframe thead th {\n",
       "        text-align: right;\n",
       "    }\n",
       "</style>\n",
       "<table border=\"1\" class=\"dataframe\">\n",
       "  <thead>\n",
       "    <tr style=\"text-align: right;\">\n",
       "      <th></th>\n",
       "      <th>variables</th>\n",
       "      <th>corr</th>\n",
       "    </tr>\n",
       "  </thead>\n",
       "  <tbody>\n",
       "    <tr>\n",
       "      <th>44</th>\n",
       "      <td>PctKids2Par</td>\n",
       "      <td>0.734404</td>\n",
       "    </tr>\n",
       "    <tr>\n",
       "      <th>50</th>\n",
       "      <td>PctIlleg</td>\n",
       "      <td>0.731454</td>\n",
       "    </tr>\n",
       "    <tr>\n",
       "      <th>43</th>\n",
       "      <td>PctFam2Par</td>\n",
       "      <td>0.701110</td>\n",
       "    </tr>\n",
       "    <tr>\n",
       "      <th>3</th>\n",
       "      <td>racePctWhite</td>\n",
       "      <td>0.678336</td>\n",
       "    </tr>\n",
       "    <tr>\n",
       "      <th>45</th>\n",
       "      <td>PctYoungKids2Par</td>\n",
       "      <td>0.661423</td>\n",
       "    </tr>\n",
       "    <tr>\n",
       "      <th>...</th>\n",
       "      <td>...</td>\n",
       "      <td>...</td>\n",
       "    </tr>\n",
       "    <tr>\n",
       "      <th>111</th>\n",
       "      <td>NumKindsDrugsSeiz</td>\n",
       "      <td>0.033370</td>\n",
       "    </tr>\n",
       "    <tr>\n",
       "      <th>1</th>\n",
       "      <td>householdsize</td>\n",
       "      <td>0.031036</td>\n",
       "    </tr>\n",
       "    <tr>\n",
       "      <th>95</th>\n",
       "      <td>PctSameState85</td>\n",
       "      <td>0.023219</td>\n",
       "    </tr>\n",
       "    <tr>\n",
       "      <th>75</th>\n",
       "      <td>PctVacMore6Mos</td>\n",
       "      <td>0.012351</td>\n",
       "    </tr>\n",
       "    <tr>\n",
       "      <th>119</th>\n",
       "      <td>LemasGangUnitDeploy</td>\n",
       "      <td>0.000143</td>\n",
       "    </tr>\n",
       "  </tbody>\n",
       "</table>\n",
       "<p>122 rows × 2 columns</p>\n",
       "</div>"
      ],
      "text/plain": [
       "               variables      corr\n",
       "44           PctKids2Par  0.734404\n",
       "50              PctIlleg  0.731454\n",
       "43            PctFam2Par  0.701110\n",
       "3           racePctWhite  0.678336\n",
       "45      PctYoungKids2Par  0.661423\n",
       "..                   ...       ...\n",
       "111    NumKindsDrugsSeiz  0.033370\n",
       "1          householdsize  0.031036\n",
       "95        PctSameState85  0.023219\n",
       "75        PctVacMore6Mos  0.012351\n",
       "119  LemasGangUnitDeploy  0.000143\n",
       "\n",
       "[122 rows x 2 columns]"
      ]
     },
     "execution_count": 231,
     "metadata": {},
     "output_type": "execute_result"
    }
   ],
   "source": [
    "corr_df"
   ]
  },
  {
   "cell_type": "markdown",
   "id": "fcae5b7b",
   "metadata": {},
   "source": [
    "### 5 features with strongest correlation: PctKids2Par, Pctllleg, PctFam2Par, racePctWhite, PctYoungKids2Par.\n",
    "\n",
    "### 5 features with weakest correlation: PNumKindsDrugsSeiz, householdsize, PctSameState85, PctVacMore6Mos, LemasGangUnitDeploy."
   ]
  },
  {
   "cell_type": "code",
   "execution_count": 232,
   "id": "8a07ff81",
   "metadata": {},
   "outputs": [],
   "source": [
    "alphas = [1e-3, 1e-2, 1e-1, 1, 10]"
   ]
  },
  {
   "cell_type": "code",
   "execution_count": 233,
   "id": "9a731629",
   "metadata": {},
   "outputs": [],
   "source": [
    "cv = KFold(n_splits = 10, random_state = 13, shuffle = True)"
   ]
  },
  {
   "cell_type": "code",
   "execution_count": 234,
   "id": "62392805",
   "metadata": {},
   "outputs": [],
   "source": [
    "from sklearn.linear_model import LassoCV\n",
    "lasso_cv = LassoCV(alphas=alphas, cv=cv)"
   ]
  },
  {
   "cell_type": "code",
   "execution_count": 235,
   "id": "c69b9cad",
   "metadata": {},
   "outputs": [
    {
     "data": {
      "text/html": [
       "<style>#sk-container-id-15 {color: black;}#sk-container-id-15 pre{padding: 0;}#sk-container-id-15 div.sk-toggleable {background-color: white;}#sk-container-id-15 label.sk-toggleable__label {cursor: pointer;display: block;width: 100%;margin-bottom: 0;padding: 0.3em;box-sizing: border-box;text-align: center;}#sk-container-id-15 label.sk-toggleable__label-arrow:before {content: \"▸\";float: left;margin-right: 0.25em;color: #696969;}#sk-container-id-15 label.sk-toggleable__label-arrow:hover:before {color: black;}#sk-container-id-15 div.sk-estimator:hover label.sk-toggleable__label-arrow:before {color: black;}#sk-container-id-15 div.sk-toggleable__content {max-height: 0;max-width: 0;overflow: hidden;text-align: left;background-color: #f0f8ff;}#sk-container-id-15 div.sk-toggleable__content pre {margin: 0.2em;color: black;border-radius: 0.25em;background-color: #f0f8ff;}#sk-container-id-15 input.sk-toggleable__control:checked~div.sk-toggleable__content {max-height: 200px;max-width: 100%;overflow: auto;}#sk-container-id-15 input.sk-toggleable__control:checked~label.sk-toggleable__label-arrow:before {content: \"▾\";}#sk-container-id-15 div.sk-estimator input.sk-toggleable__control:checked~label.sk-toggleable__label {background-color: #d4ebff;}#sk-container-id-15 div.sk-label input.sk-toggleable__control:checked~label.sk-toggleable__label {background-color: #d4ebff;}#sk-container-id-15 input.sk-hidden--visually {border: 0;clip: rect(1px 1px 1px 1px);clip: rect(1px, 1px, 1px, 1px);height: 1px;margin: -1px;overflow: hidden;padding: 0;position: absolute;width: 1px;}#sk-container-id-15 div.sk-estimator {font-family: monospace;background-color: #f0f8ff;border: 1px dotted black;border-radius: 0.25em;box-sizing: border-box;margin-bottom: 0.5em;}#sk-container-id-15 div.sk-estimator:hover {background-color: #d4ebff;}#sk-container-id-15 div.sk-parallel-item::after {content: \"\";width: 100%;border-bottom: 1px solid gray;flex-grow: 1;}#sk-container-id-15 div.sk-label:hover label.sk-toggleable__label {background-color: #d4ebff;}#sk-container-id-15 div.sk-serial::before {content: \"\";position: absolute;border-left: 1px solid gray;box-sizing: border-box;top: 0;bottom: 0;left: 50%;z-index: 0;}#sk-container-id-15 div.sk-serial {display: flex;flex-direction: column;align-items: center;background-color: white;padding-right: 0.2em;padding-left: 0.2em;position: relative;}#sk-container-id-15 div.sk-item {position: relative;z-index: 1;}#sk-container-id-15 div.sk-parallel {display: flex;align-items: stretch;justify-content: center;background-color: white;position: relative;}#sk-container-id-15 div.sk-item::before, #sk-container-id-15 div.sk-parallel-item::before {content: \"\";position: absolute;border-left: 1px solid gray;box-sizing: border-box;top: 0;bottom: 0;left: 50%;z-index: -1;}#sk-container-id-15 div.sk-parallel-item {display: flex;flex-direction: column;z-index: 1;position: relative;background-color: white;}#sk-container-id-15 div.sk-parallel-item:first-child::after {align-self: flex-end;width: 50%;}#sk-container-id-15 div.sk-parallel-item:last-child::after {align-self: flex-start;width: 50%;}#sk-container-id-15 div.sk-parallel-item:only-child::after {width: 0;}#sk-container-id-15 div.sk-dashed-wrapped {border: 1px dashed gray;margin: 0 0.4em 0.5em 0.4em;box-sizing: border-box;padding-bottom: 0.4em;background-color: white;}#sk-container-id-15 div.sk-label label {font-family: monospace;font-weight: bold;display: inline-block;line-height: 1.2em;}#sk-container-id-15 div.sk-label-container {text-align: center;}#sk-container-id-15 div.sk-container {/* jupyter's `normalize.less` sets `[hidden] { display: none; }` but bootstrap.min.css set `[hidden] { display: none !important; }` so we also need the `!important` here to be able to override the default hidden behavior on the sphinx rendered scikit-learn.org. See: https://github.com/scikit-learn/scikit-learn/issues/21755 */display: inline-block !important;position: relative;}#sk-container-id-15 div.sk-text-repr-fallback {display: none;}</style><div id=\"sk-container-id-15\" class=\"sk-top-container\"><div class=\"sk-text-repr-fallback\"><pre>LassoCV(alphas=[0.001, 0.01, 0.1, 1, 10],\n",
       "        cv=KFold(n_splits=10, random_state=13, shuffle=True))</pre><b>In a Jupyter environment, please rerun this cell to show the HTML representation or trust the notebook. <br />On GitHub, the HTML representation is unable to render, please try loading this page with nbviewer.org.</b></div><div class=\"sk-container\" hidden><div class=\"sk-item\"><div class=\"sk-estimator sk-toggleable\"><input class=\"sk-toggleable__control sk-hidden--visually\" id=\"sk-estimator-id-17\" type=\"checkbox\" checked><label for=\"sk-estimator-id-17\" class=\"sk-toggleable__label sk-toggleable__label-arrow\">LassoCV</label><div class=\"sk-toggleable__content\"><pre>LassoCV(alphas=[0.001, 0.01, 0.1, 1, 10],\n",
       "        cv=KFold(n_splits=10, random_state=13, shuffle=True))</pre></div></div></div></div></div>"
      ],
      "text/plain": [
       "LassoCV(alphas=[0.001, 0.01, 0.1, 1, 10],\n",
       "        cv=KFold(n_splits=10, random_state=13, shuffle=True))"
      ]
     },
     "execution_count": 235,
     "metadata": {},
     "output_type": "execute_result"
    }
   ],
   "source": [
    "lasso_cv.fit(X_train, y_train)"
   ]
  },
  {
   "cell_type": "code",
   "execution_count": 236,
   "id": "300b32a1",
   "metadata": {},
   "outputs": [
    {
     "name": "stdout",
     "output_type": "stream",
     "text": [
      "The best regularization constant is: 0.001\n"
     ]
    }
   ],
   "source": [
    "print(f\"The best regularization constant is: {lasso_cv.alpha_}\")"
   ]
  },
  {
   "cell_type": "code",
   "execution_count": 237,
   "id": "97623185",
   "metadata": {},
   "outputs": [
    {
     "data": {
      "text/plain": [
       "0.677991958206577"
      ]
     },
     "execution_count": 237,
     "metadata": {},
     "output_type": "execute_result"
    }
   ],
   "source": [
    "lasso_cv.score(X_train, y_train)"
   ]
  },
  {
   "cell_type": "markdown",
   "id": "b60d8f3d",
   "metadata": {},
   "source": [
    "### R2 returned by the selected model is 0.677991958206577 which means that 67.8% of the variance in the target variable is explained by the model. A higher R2 indicates a better fit of the model to the data."
   ]
  },
  {
   "cell_type": "code",
   "execution_count": 238,
   "id": "2c538730",
   "metadata": {},
   "outputs": [
    {
     "name": "stdout",
     "output_type": "stream",
     "text": [
      "Number of Selected features: 64\n"
     ]
    }
   ],
   "source": [
    "print(f\"Number of Selected features: {np.sum(lasso_cv.coef_ != 0)}\")"
   ]
  },
  {
   "cell_type": "code",
   "execution_count": 239,
   "id": "c9e4f52d",
   "metadata": {},
   "outputs": [
    {
     "name": "stdout",
     "output_type": "stream",
     "text": [
      "Selected features: Index(['householdsize', 'racepctblack', 'racePctWhite', 'agePct12t29',\n",
      "       'numbUrban', 'pctUrban', 'pctWWage', 'pctWFarmSelf', 'pctWInvInc',\n",
      "       'pctWSocSec', 'pctWRetire', 'whitePerCap', 'blackPerCap',\n",
      "       'indianPerCap', 'AsianPerCap', 'OtherPerCap', 'HispPerCap',\n",
      "       'PctPopUnderPov', 'PctLess9thGrade', 'PctUnemployed', 'PctEmploy',\n",
      "       'PctEmplManu', 'MalePctDivorce', 'MalePctNevMarr', 'PctKids2Par',\n",
      "       'PctYoungKids2Par', 'PctWorkMom', 'NumIlleg', 'PctIlleg', 'NumImmig',\n",
      "       'PctImmigRec5', 'PctRecImmig8', 'PctNotSpeakEnglWell',\n",
      "       'PersPerOccupHous', 'PersPerOwnOccHous', 'PctPersOwnOccup',\n",
      "       'PctPersDenseHous', 'PctHousLess3BR', 'HousVacant', 'PctHousOccup',\n",
      "       'PctVacantBoarded', 'PctVacMore6Mos', 'RentLowQ', 'MedRent',\n",
      "       'MedRentPctHousInc', 'MedOwnCostPctIncNoMtg', 'NumInShelters',\n",
      "       'NumStreet', 'PctForeignBorn', 'PctBornSameState', 'PctSameCity85',\n",
      "       'LemasSwFTFieldPerPop', 'LemasTotalReq', 'PolicReqPerOffic',\n",
      "       'RacialMatchCommPol', 'PctPolicWhite', 'PctPolicHisp', 'PctPolicAsian',\n",
      "       'OfficAssgnDrugUnits', 'LandArea', 'PctUsePubTrans', 'PolicCars',\n",
      "       'LemasGangUnitDeploy', 'LemasPctOfficDrugUn'],\n",
      "      dtype='object')\n"
     ]
    }
   ],
   "source": [
    "print(f\"Selected features: {X_train.columns[lasso_cv.coef_ != 0]}\")"
   ]
  },
  {
   "cell_type": "markdown",
   "id": "440b499e",
   "metadata": {},
   "source": [
    "### Lasso minimizes the following criterion: J(β) = RSS + α * Σ|β_i|. RSS is the residual sum of squares and α is the regularization strength.\n",
    "### RSS is differentiable with respect to the model's coefficients (β) because it involves basic operations that are all differentiable.\n",
    "### The L1 regularization term Σ|β_i| is not differentiable at zero because it contains absolute value functions. The derivative is not defined at zero. However, the L1 regularization term is subdifferentiable, meaning it has subgradients at zero. Subgradients are used to generalize the concept of derivatives for non-differentiable functions.\n",
    "### As a result, the entire criterion J(β) is not differentiable at zero due to the L1 regularization term. However, it is differentiable everywhere else.\n",
    "### The closed form solution for Lasso may involve gradient descent or coordinate descent, and it's typically implemented using optimization algorithms to iteratively update the coefficients to minimize the criterion ensuring that the coefficients reach the optimal values."
   ]
  },
  {
   "cell_type": "code",
   "execution_count": 240,
   "id": "53f2dd5b",
   "metadata": {},
   "outputs": [
    {
     "data": {
      "text/html": [
       "<style>#sk-container-id-16 {color: black;}#sk-container-id-16 pre{padding: 0;}#sk-container-id-16 div.sk-toggleable {background-color: white;}#sk-container-id-16 label.sk-toggleable__label {cursor: pointer;display: block;width: 100%;margin-bottom: 0;padding: 0.3em;box-sizing: border-box;text-align: center;}#sk-container-id-16 label.sk-toggleable__label-arrow:before {content: \"▸\";float: left;margin-right: 0.25em;color: #696969;}#sk-container-id-16 label.sk-toggleable__label-arrow:hover:before {color: black;}#sk-container-id-16 div.sk-estimator:hover label.sk-toggleable__label-arrow:before {color: black;}#sk-container-id-16 div.sk-toggleable__content {max-height: 0;max-width: 0;overflow: hidden;text-align: left;background-color: #f0f8ff;}#sk-container-id-16 div.sk-toggleable__content pre {margin: 0.2em;color: black;border-radius: 0.25em;background-color: #f0f8ff;}#sk-container-id-16 input.sk-toggleable__control:checked~div.sk-toggleable__content {max-height: 200px;max-width: 100%;overflow: auto;}#sk-container-id-16 input.sk-toggleable__control:checked~label.sk-toggleable__label-arrow:before {content: \"▾\";}#sk-container-id-16 div.sk-estimator input.sk-toggleable__control:checked~label.sk-toggleable__label {background-color: #d4ebff;}#sk-container-id-16 div.sk-label input.sk-toggleable__control:checked~label.sk-toggleable__label {background-color: #d4ebff;}#sk-container-id-16 input.sk-hidden--visually {border: 0;clip: rect(1px 1px 1px 1px);clip: rect(1px, 1px, 1px, 1px);height: 1px;margin: -1px;overflow: hidden;padding: 0;position: absolute;width: 1px;}#sk-container-id-16 div.sk-estimator {font-family: monospace;background-color: #f0f8ff;border: 1px dotted black;border-radius: 0.25em;box-sizing: border-box;margin-bottom: 0.5em;}#sk-container-id-16 div.sk-estimator:hover {background-color: #d4ebff;}#sk-container-id-16 div.sk-parallel-item::after {content: \"\";width: 100%;border-bottom: 1px solid gray;flex-grow: 1;}#sk-container-id-16 div.sk-label:hover label.sk-toggleable__label {background-color: #d4ebff;}#sk-container-id-16 div.sk-serial::before {content: \"\";position: absolute;border-left: 1px solid gray;box-sizing: border-box;top: 0;bottom: 0;left: 50%;z-index: 0;}#sk-container-id-16 div.sk-serial {display: flex;flex-direction: column;align-items: center;background-color: white;padding-right: 0.2em;padding-left: 0.2em;position: relative;}#sk-container-id-16 div.sk-item {position: relative;z-index: 1;}#sk-container-id-16 div.sk-parallel {display: flex;align-items: stretch;justify-content: center;background-color: white;position: relative;}#sk-container-id-16 div.sk-item::before, #sk-container-id-16 div.sk-parallel-item::before {content: \"\";position: absolute;border-left: 1px solid gray;box-sizing: border-box;top: 0;bottom: 0;left: 50%;z-index: -1;}#sk-container-id-16 div.sk-parallel-item {display: flex;flex-direction: column;z-index: 1;position: relative;background-color: white;}#sk-container-id-16 div.sk-parallel-item:first-child::after {align-self: flex-end;width: 50%;}#sk-container-id-16 div.sk-parallel-item:last-child::after {align-self: flex-start;width: 50%;}#sk-container-id-16 div.sk-parallel-item:only-child::after {width: 0;}#sk-container-id-16 div.sk-dashed-wrapped {border: 1px dashed gray;margin: 0 0.4em 0.5em 0.4em;box-sizing: border-box;padding-bottom: 0.4em;background-color: white;}#sk-container-id-16 div.sk-label label {font-family: monospace;font-weight: bold;display: inline-block;line-height: 1.2em;}#sk-container-id-16 div.sk-label-container {text-align: center;}#sk-container-id-16 div.sk-container {/* jupyter's `normalize.less` sets `[hidden] { display: none; }` but bootstrap.min.css set `[hidden] { display: none !important; }` so we also need the `!important` here to be able to override the default hidden behavior on the sphinx rendered scikit-learn.org. See: https://github.com/scikit-learn/scikit-learn/issues/21755 */display: inline-block !important;position: relative;}#sk-container-id-16 div.sk-text-repr-fallback {display: none;}</style><div id=\"sk-container-id-16\" class=\"sk-top-container\"><div class=\"sk-text-repr-fallback\"><pre>RidgeCV(alphas=[0.001, 0.01, 0.1, 1, 10],\n",
       "        cv=KFold(n_splits=10, random_state=13, shuffle=True))</pre><b>In a Jupyter environment, please rerun this cell to show the HTML representation or trust the notebook. <br />On GitHub, the HTML representation is unable to render, please try loading this page with nbviewer.org.</b></div><div class=\"sk-container\" hidden><div class=\"sk-item\"><div class=\"sk-estimator sk-toggleable\"><input class=\"sk-toggleable__control sk-hidden--visually\" id=\"sk-estimator-id-18\" type=\"checkbox\" checked><label for=\"sk-estimator-id-18\" class=\"sk-toggleable__label sk-toggleable__label-arrow\">RidgeCV</label><div class=\"sk-toggleable__content\"><pre>RidgeCV(alphas=[0.001, 0.01, 0.1, 1, 10],\n",
       "        cv=KFold(n_splits=10, random_state=13, shuffle=True))</pre></div></div></div></div></div>"
      ],
      "text/plain": [
       "RidgeCV(alphas=[0.001, 0.01, 0.1, 1, 10],\n",
       "        cv=KFold(n_splits=10, random_state=13, shuffle=True))"
      ]
     },
     "execution_count": 240,
     "metadata": {},
     "output_type": "execute_result"
    }
   ],
   "source": [
    "from sklearn.linear_model import RidgeCV\n",
    "ridge_cv = RidgeCV(alphas=alphas, cv=cv)\n",
    "ridge_cv.fit(X_train, y_train)"
   ]
  },
  {
   "cell_type": "code",
   "execution_count": 241,
   "id": "d6797523",
   "metadata": {},
   "outputs": [
    {
     "name": "stdout",
     "output_type": "stream",
     "text": [
      "The best alpha is: 10.0\n"
     ]
    }
   ],
   "source": [
    "print(f\"The best alpha is: {ridge_cv.alpha_}\")"
   ]
  },
  {
   "cell_type": "code",
   "execution_count": 242,
   "id": "a251e018",
   "metadata": {},
   "outputs": [
    {
     "name": "stdout",
     "output_type": "stream",
     "text": [
      "The R2 value is: 0.6936307407214163\n"
     ]
    }
   ],
   "source": [
    "print(f\"The R2 value is: {ridge_cv.score(X_train, y_train)}\")"
   ]
  },
  {
   "cell_type": "markdown",
   "id": "5123518e",
   "metadata": {},
   "source": [
    "### Ridge minimizes the following criterion: J(β) = RSS + α * Σ(β_i^2).  RSS is the residual sum of squares, α is the regularization strength, and β_i are the model coefficients.\n",
    "\n",
    "### The Ridge regression criterion is differentiable in its parameters. The derivative of the Ridge criterion with respect to the coefficients β_i is dJ(β)/dβ_i = -2 * (y_i - X_iβ) + 2αβ_i\n",
    "### The closed form solution of the estimator of the parameter vector (β) in Ridge regression is: β^Ridge = (X^T X + αI)^(-1) X^T y where X is the feature matrix, y is the target vector, α is the regularization strength, and I is the identity matrix.\n",
    "\n",
    "### L1 Lasso is simpler in terms of having less features (coefficients shrunk to zero). L2 provides a smoother regularization with a slightly higher R2 value. Both models fit about the same and L1 is simpler with less features involved."
   ]
  },
  {
   "cell_type": "code",
   "execution_count": 243,
   "id": "42dc7319",
   "metadata": {},
   "outputs": [],
   "source": [
    "from sklearn.ensemble import RandomForestRegressor\n",
    "from sklearn.model_selection import RandomizedSearchCV"
   ]
  },
  {
   "cell_type": "code",
   "execution_count": 244,
   "id": "7aff8720",
   "metadata": {},
   "outputs": [],
   "source": [
    "param_dist = {\n",
    "    'min_samples_leaf': np.arange(1, 61),\n",
    "    'max_features': np.linspace(0.1, 1.0, 10),\n",
    "    'max_depth': np.arange(6, 21),\n",
    "}"
   ]
  },
  {
   "cell_type": "code",
   "execution_count": 245,
   "id": "47ddbe52",
   "metadata": {},
   "outputs": [],
   "source": [
    "rf = RandomForestRegressor(n_estimators=100)"
   ]
  },
  {
   "cell_type": "code",
   "execution_count": 246,
   "id": "8bec0db0",
   "metadata": {},
   "outputs": [],
   "source": [
    "random_search = RandomizedSearchCV(estimator=rf, param_distributions=param_dist, n_iter=100, n_jobs=-1, scoring='r2')"
   ]
  },
  {
   "cell_type": "code",
   "execution_count": 247,
   "id": "08bc13a6",
   "metadata": {},
   "outputs": [
    {
     "data": {
      "text/html": [
       "<style>#sk-container-id-17 {color: black;}#sk-container-id-17 pre{padding: 0;}#sk-container-id-17 div.sk-toggleable {background-color: white;}#sk-container-id-17 label.sk-toggleable__label {cursor: pointer;display: block;width: 100%;margin-bottom: 0;padding: 0.3em;box-sizing: border-box;text-align: center;}#sk-container-id-17 label.sk-toggleable__label-arrow:before {content: \"▸\";float: left;margin-right: 0.25em;color: #696969;}#sk-container-id-17 label.sk-toggleable__label-arrow:hover:before {color: black;}#sk-container-id-17 div.sk-estimator:hover label.sk-toggleable__label-arrow:before {color: black;}#sk-container-id-17 div.sk-toggleable__content {max-height: 0;max-width: 0;overflow: hidden;text-align: left;background-color: #f0f8ff;}#sk-container-id-17 div.sk-toggleable__content pre {margin: 0.2em;color: black;border-radius: 0.25em;background-color: #f0f8ff;}#sk-container-id-17 input.sk-toggleable__control:checked~div.sk-toggleable__content {max-height: 200px;max-width: 100%;overflow: auto;}#sk-container-id-17 input.sk-toggleable__control:checked~label.sk-toggleable__label-arrow:before {content: \"▾\";}#sk-container-id-17 div.sk-estimator input.sk-toggleable__control:checked~label.sk-toggleable__label {background-color: #d4ebff;}#sk-container-id-17 div.sk-label input.sk-toggleable__control:checked~label.sk-toggleable__label {background-color: #d4ebff;}#sk-container-id-17 input.sk-hidden--visually {border: 0;clip: rect(1px 1px 1px 1px);clip: rect(1px, 1px, 1px, 1px);height: 1px;margin: -1px;overflow: hidden;padding: 0;position: absolute;width: 1px;}#sk-container-id-17 div.sk-estimator {font-family: monospace;background-color: #f0f8ff;border: 1px dotted black;border-radius: 0.25em;box-sizing: border-box;margin-bottom: 0.5em;}#sk-container-id-17 div.sk-estimator:hover {background-color: #d4ebff;}#sk-container-id-17 div.sk-parallel-item::after {content: \"\";width: 100%;border-bottom: 1px solid gray;flex-grow: 1;}#sk-container-id-17 div.sk-label:hover label.sk-toggleable__label {background-color: #d4ebff;}#sk-container-id-17 div.sk-serial::before {content: \"\";position: absolute;border-left: 1px solid gray;box-sizing: border-box;top: 0;bottom: 0;left: 50%;z-index: 0;}#sk-container-id-17 div.sk-serial {display: flex;flex-direction: column;align-items: center;background-color: white;padding-right: 0.2em;padding-left: 0.2em;position: relative;}#sk-container-id-17 div.sk-item {position: relative;z-index: 1;}#sk-container-id-17 div.sk-parallel {display: flex;align-items: stretch;justify-content: center;background-color: white;position: relative;}#sk-container-id-17 div.sk-item::before, #sk-container-id-17 div.sk-parallel-item::before {content: \"\";position: absolute;border-left: 1px solid gray;box-sizing: border-box;top: 0;bottom: 0;left: 50%;z-index: -1;}#sk-container-id-17 div.sk-parallel-item {display: flex;flex-direction: column;z-index: 1;position: relative;background-color: white;}#sk-container-id-17 div.sk-parallel-item:first-child::after {align-self: flex-end;width: 50%;}#sk-container-id-17 div.sk-parallel-item:last-child::after {align-self: flex-start;width: 50%;}#sk-container-id-17 div.sk-parallel-item:only-child::after {width: 0;}#sk-container-id-17 div.sk-dashed-wrapped {border: 1px dashed gray;margin: 0 0.4em 0.5em 0.4em;box-sizing: border-box;padding-bottom: 0.4em;background-color: white;}#sk-container-id-17 div.sk-label label {font-family: monospace;font-weight: bold;display: inline-block;line-height: 1.2em;}#sk-container-id-17 div.sk-label-container {text-align: center;}#sk-container-id-17 div.sk-container {/* jupyter's `normalize.less` sets `[hidden] { display: none; }` but bootstrap.min.css set `[hidden] { display: none !important; }` so we also need the `!important` here to be able to override the default hidden behavior on the sphinx rendered scikit-learn.org. See: https://github.com/scikit-learn/scikit-learn/issues/21755 */display: inline-block !important;position: relative;}#sk-container-id-17 div.sk-text-repr-fallback {display: none;}</style><div id=\"sk-container-id-17\" class=\"sk-top-container\"><div class=\"sk-text-repr-fallback\"><pre>RandomizedSearchCV(estimator=RandomForestRegressor(), n_iter=100, n_jobs=-1,\n",
       "                   param_distributions={&#x27;max_depth&#x27;: array([ 6,  7,  8,  9, 10, 11, 12, 13, 14, 15, 16, 17, 18, 19, 20]),\n",
       "                                        &#x27;max_features&#x27;: array([0.1, 0.2, 0.3, 0.4, 0.5, 0.6, 0.7, 0.8, 0.9, 1. ]),\n",
       "                                        &#x27;min_samples_leaf&#x27;: array([ 1,  2,  3,  4,  5,  6,  7,  8,  9, 10, 11, 12, 13, 14, 15, 16, 17,\n",
       "       18, 19, 20, 21, 22, 23, 24, 25, 26, 27, 28, 29, 30, 31, 32, 33, 34,\n",
       "       35, 36, 37, 38, 39, 40, 41, 42, 43, 44, 45, 46, 47, 48, 49, 50, 51,\n",
       "       52, 53, 54, 55, 56, 57, 58, 59, 60])},\n",
       "                   scoring=&#x27;r2&#x27;)</pre><b>In a Jupyter environment, please rerun this cell to show the HTML representation or trust the notebook. <br />On GitHub, the HTML representation is unable to render, please try loading this page with nbviewer.org.</b></div><div class=\"sk-container\" hidden><div class=\"sk-item sk-dashed-wrapped\"><div class=\"sk-label-container\"><div class=\"sk-label sk-toggleable\"><input class=\"sk-toggleable__control sk-hidden--visually\" id=\"sk-estimator-id-19\" type=\"checkbox\" ><label for=\"sk-estimator-id-19\" class=\"sk-toggleable__label sk-toggleable__label-arrow\">RandomizedSearchCV</label><div class=\"sk-toggleable__content\"><pre>RandomizedSearchCV(estimator=RandomForestRegressor(), n_iter=100, n_jobs=-1,\n",
       "                   param_distributions={&#x27;max_depth&#x27;: array([ 6,  7,  8,  9, 10, 11, 12, 13, 14, 15, 16, 17, 18, 19, 20]),\n",
       "                                        &#x27;max_features&#x27;: array([0.1, 0.2, 0.3, 0.4, 0.5, 0.6, 0.7, 0.8, 0.9, 1. ]),\n",
       "                                        &#x27;min_samples_leaf&#x27;: array([ 1,  2,  3,  4,  5,  6,  7,  8,  9, 10, 11, 12, 13, 14, 15, 16, 17,\n",
       "       18, 19, 20, 21, 22, 23, 24, 25, 26, 27, 28, 29, 30, 31, 32, 33, 34,\n",
       "       35, 36, 37, 38, 39, 40, 41, 42, 43, 44, 45, 46, 47, 48, 49, 50, 51,\n",
       "       52, 53, 54, 55, 56, 57, 58, 59, 60])},\n",
       "                   scoring=&#x27;r2&#x27;)</pre></div></div></div><div class=\"sk-parallel\"><div class=\"sk-parallel-item\"><div class=\"sk-item\"><div class=\"sk-label-container\"><div class=\"sk-label sk-toggleable\"><input class=\"sk-toggleable__control sk-hidden--visually\" id=\"sk-estimator-id-20\" type=\"checkbox\" ><label for=\"sk-estimator-id-20\" class=\"sk-toggleable__label sk-toggleable__label-arrow\">estimator: RandomForestRegressor</label><div class=\"sk-toggleable__content\"><pre>RandomForestRegressor()</pre></div></div></div><div class=\"sk-serial\"><div class=\"sk-item\"><div class=\"sk-estimator sk-toggleable\"><input class=\"sk-toggleable__control sk-hidden--visually\" id=\"sk-estimator-id-21\" type=\"checkbox\" ><label for=\"sk-estimator-id-21\" class=\"sk-toggleable__label sk-toggleable__label-arrow\">RandomForestRegressor</label><div class=\"sk-toggleable__content\"><pre>RandomForestRegressor()</pre></div></div></div></div></div></div></div></div></div></div>"
      ],
      "text/plain": [
       "RandomizedSearchCV(estimator=RandomForestRegressor(), n_iter=100, n_jobs=-1,\n",
       "                   param_distributions={'max_depth': array([ 6,  7,  8,  9, 10, 11, 12, 13, 14, 15, 16, 17, 18, 19, 20]),\n",
       "                                        'max_features': array([0.1, 0.2, 0.3, 0.4, 0.5, 0.6, 0.7, 0.8, 0.9, 1. ]),\n",
       "                                        'min_samples_leaf': array([ 1,  2,  3,  4,  5,  6,  7,  8,  9, 10, 11, 12, 13, 14, 15, 16, 17,\n",
       "       18, 19, 20, 21, 22, 23, 24, 25, 26, 27, 28, 29, 30, 31, 32, 33, 34,\n",
       "       35, 36, 37, 38, 39, 40, 41, 42, 43, 44, 45, 46, 47, 48, 49, 50, 51,\n",
       "       52, 53, 54, 55, 56, 57, 58, 59, 60])},\n",
       "                   scoring='r2')"
      ]
     },
     "execution_count": 247,
     "metadata": {},
     "output_type": "execute_result"
    }
   ],
   "source": [
    "random_search.fit(X_train, y_train)"
   ]
  },
  {
   "cell_type": "code",
   "execution_count": 248,
   "id": "3c51cde6",
   "metadata": {},
   "outputs": [
    {
     "name": "stdout",
     "output_type": "stream",
     "text": [
      "Best hyperparameter values are: {'min_samples_leaf': 3, 'max_features': 0.4, 'max_depth': 11}\n"
     ]
    }
   ],
   "source": [
    "print(f\"Best hyperparameter values are: {random_search.best_params_}\")"
   ]
  },
  {
   "cell_type": "markdown",
   "id": "720d8705",
   "metadata": {},
   "source": [
    "### The best hyperparameter values These values indicate which combinations of hyperparameters resulted in the best model performance."
   ]
  },
  {
   "cell_type": "code",
   "execution_count": 249,
   "id": "de20cc44",
   "metadata": {},
   "outputs": [
    {
     "name": "stdout",
     "output_type": "stream",
     "text": [
      "R2 score of the best model: 0.904330878070565\n"
     ]
    }
   ],
   "source": [
    "best_model = random_search.best_estimator_\n",
    "best_r2 = best_model.score(X_train, y_train)\n",
    "print(\"R2 score of the best model:\", best_r2)"
   ]
  },
  {
   "cell_type": "markdown",
   "id": "0c54debc",
   "metadata": {},
   "source": [
    "### 7 1). Rsquared score is used to evaluate models. The random forest model with hyperparameter values of 'min_samples_leaf': 3, 'max_features': 0.4 'max_depth': 11 is the best fit model with the highest Rsquared value.\n",
    "### 2). Out of all 3 cv-selected models, Lasso is the best in terms of simplicity and interpretability. Linear models are easier to interpret than Random Forest as it is clear to see feature contributions to the target by looking at the coefficients. Lasso is simpler compared to the other two as it has less features involved in the model.\n",
    "### 3). I would choose the Random Forest model as the it provides a significant better fit (aka. highest Rsquared value). \n",
    "### 4). Yes the top 5 features and all other features are retained in the Random Forest model as it does not do feature selection during the modeling process. If feature selection is needed, it can be done before the model fitting through univariate feature selection."
   ]
  },
  {
   "cell_type": "code",
   "execution_count": 250,
   "id": "11fd4449",
   "metadata": {},
   "outputs": [],
   "source": [
    "hyperparameters = {\n",
    "    'min_samples_leaf': 3,\n",
    "    'max_features': 0.4,\n",
    "    'max_depth': 12\n",
    "}"
   ]
  },
  {
   "cell_type": "code",
   "execution_count": 251,
   "id": "3d464731",
   "metadata": {},
   "outputs": [
    {
     "data": {
      "text/html": [
       "<style>#sk-container-id-18 {color: black;}#sk-container-id-18 pre{padding: 0;}#sk-container-id-18 div.sk-toggleable {background-color: white;}#sk-container-id-18 label.sk-toggleable__label {cursor: pointer;display: block;width: 100%;margin-bottom: 0;padding: 0.3em;box-sizing: border-box;text-align: center;}#sk-container-id-18 label.sk-toggleable__label-arrow:before {content: \"▸\";float: left;margin-right: 0.25em;color: #696969;}#sk-container-id-18 label.sk-toggleable__label-arrow:hover:before {color: black;}#sk-container-id-18 div.sk-estimator:hover label.sk-toggleable__label-arrow:before {color: black;}#sk-container-id-18 div.sk-toggleable__content {max-height: 0;max-width: 0;overflow: hidden;text-align: left;background-color: #f0f8ff;}#sk-container-id-18 div.sk-toggleable__content pre {margin: 0.2em;color: black;border-radius: 0.25em;background-color: #f0f8ff;}#sk-container-id-18 input.sk-toggleable__control:checked~div.sk-toggleable__content {max-height: 200px;max-width: 100%;overflow: auto;}#sk-container-id-18 input.sk-toggleable__control:checked~label.sk-toggleable__label-arrow:before {content: \"▾\";}#sk-container-id-18 div.sk-estimator input.sk-toggleable__control:checked~label.sk-toggleable__label {background-color: #d4ebff;}#sk-container-id-18 div.sk-label input.sk-toggleable__control:checked~label.sk-toggleable__label {background-color: #d4ebff;}#sk-container-id-18 input.sk-hidden--visually {border: 0;clip: rect(1px 1px 1px 1px);clip: rect(1px, 1px, 1px, 1px);height: 1px;margin: -1px;overflow: hidden;padding: 0;position: absolute;width: 1px;}#sk-container-id-18 div.sk-estimator {font-family: monospace;background-color: #f0f8ff;border: 1px dotted black;border-radius: 0.25em;box-sizing: border-box;margin-bottom: 0.5em;}#sk-container-id-18 div.sk-estimator:hover {background-color: #d4ebff;}#sk-container-id-18 div.sk-parallel-item::after {content: \"\";width: 100%;border-bottom: 1px solid gray;flex-grow: 1;}#sk-container-id-18 div.sk-label:hover label.sk-toggleable__label {background-color: #d4ebff;}#sk-container-id-18 div.sk-serial::before {content: \"\";position: absolute;border-left: 1px solid gray;box-sizing: border-box;top: 0;bottom: 0;left: 50%;z-index: 0;}#sk-container-id-18 div.sk-serial {display: flex;flex-direction: column;align-items: center;background-color: white;padding-right: 0.2em;padding-left: 0.2em;position: relative;}#sk-container-id-18 div.sk-item {position: relative;z-index: 1;}#sk-container-id-18 div.sk-parallel {display: flex;align-items: stretch;justify-content: center;background-color: white;position: relative;}#sk-container-id-18 div.sk-item::before, #sk-container-id-18 div.sk-parallel-item::before {content: \"\";position: absolute;border-left: 1px solid gray;box-sizing: border-box;top: 0;bottom: 0;left: 50%;z-index: -1;}#sk-container-id-18 div.sk-parallel-item {display: flex;flex-direction: column;z-index: 1;position: relative;background-color: white;}#sk-container-id-18 div.sk-parallel-item:first-child::after {align-self: flex-end;width: 50%;}#sk-container-id-18 div.sk-parallel-item:last-child::after {align-self: flex-start;width: 50%;}#sk-container-id-18 div.sk-parallel-item:only-child::after {width: 0;}#sk-container-id-18 div.sk-dashed-wrapped {border: 1px dashed gray;margin: 0 0.4em 0.5em 0.4em;box-sizing: border-box;padding-bottom: 0.4em;background-color: white;}#sk-container-id-18 div.sk-label label {font-family: monospace;font-weight: bold;display: inline-block;line-height: 1.2em;}#sk-container-id-18 div.sk-label-container {text-align: center;}#sk-container-id-18 div.sk-container {/* jupyter's `normalize.less` sets `[hidden] { display: none; }` but bootstrap.min.css set `[hidden] { display: none !important; }` so we also need the `!important` here to be able to override the default hidden behavior on the sphinx rendered scikit-learn.org. See: https://github.com/scikit-learn/scikit-learn/issues/21755 */display: inline-block !important;position: relative;}#sk-container-id-18 div.sk-text-repr-fallback {display: none;}</style><div id=\"sk-container-id-18\" class=\"sk-top-container\"><div class=\"sk-text-repr-fallback\"><pre>RandomForestRegressor(max_depth=12, max_features=0.4, min_samples_leaf=3)</pre><b>In a Jupyter environment, please rerun this cell to show the HTML representation or trust the notebook. <br />On GitHub, the HTML representation is unable to render, please try loading this page with nbviewer.org.</b></div><div class=\"sk-container\" hidden><div class=\"sk-item\"><div class=\"sk-estimator sk-toggleable\"><input class=\"sk-toggleable__control sk-hidden--visually\" id=\"sk-estimator-id-22\" type=\"checkbox\" checked><label for=\"sk-estimator-id-22\" class=\"sk-toggleable__label sk-toggleable__label-arrow\">RandomForestRegressor</label><div class=\"sk-toggleable__content\"><pre>RandomForestRegressor(max_depth=12, max_features=0.4, min_samples_leaf=3)</pre></div></div></div></div></div>"
      ],
      "text/plain": [
       "RandomForestRegressor(max_depth=12, max_features=0.4, min_samples_leaf=3)"
      ]
     },
     "execution_count": 251,
     "metadata": {},
     "output_type": "execute_result"
    }
   ],
   "source": [
    "rf_test = RandomForestRegressor(**hyperparameters)\n",
    "rf_test.fit(X_test, y_test)"
   ]
  },
  {
   "cell_type": "code",
   "execution_count": 252,
   "id": "c1057404",
   "metadata": {},
   "outputs": [
    {
     "data": {
      "text/plain": [
       "0.9234591964039427"
      ]
     },
     "execution_count": 252,
     "metadata": {},
     "output_type": "execute_result"
    }
   ],
   "source": [
    "rf_test.score(X_test, y_test)"
   ]
  },
  {
   "cell_type": "markdown",
   "id": "3191c776",
   "metadata": {},
   "source": [
    "### The estimated R2 is 0.9234591964039427 which relatively optimistimal as it's close to the R2 from training set. "
   ]
  },
  {
   "cell_type": "code",
   "execution_count": 253,
   "id": "2c3c92b7",
   "metadata": {},
   "outputs": [],
   "source": [
    "for i in range(100):\n",
    "    r2_values = []\n",
    "    random_seed = np.random.randint(1, 1000)\n",
    "    x_train, x_test, y_train, y_test = train_test_split(X, Y, test_size=0.2, random_state=random_seed)\n",
    "    \n",
    "    medians = x_train.median()\n",
    "    for column in x_train.columns:\n",
    "        x_train[column].fillna(medians[column], inplace=True)\n",
    "    for column in x_test.columns:\n",
    "        x_test[column].fillna(medians[column], inplace=True)\n",
    "\n",
    "    model = RandomForestRegressor(**hyperparameters)\n",
    "    model.fit(x_train, y_train)\n",
    "\n",
    "    r2 = model.score(x_test, y_test)\n",
    "\n",
    "    r2_values.append(r2)"
   ]
  },
  {
   "cell_type": "code",
   "execution_count": 254,
   "id": "38170355",
   "metadata": {},
   "outputs": [],
   "source": [
    "mean_r2 = np.mean(r2_values)\n",
    "std_r2 = np.std(r2_values)\n",
    "lower_bound = mean_r2 - 1.96 * (std_r2 / np.sqrt(100))\n",
    "upper_bound = mean_r2 + 1.96 * (std_r2 / np.sqrt(100))"
   ]
  },
  {
   "cell_type": "code",
   "execution_count": 255,
   "id": "4b7a2197",
   "metadata": {},
   "outputs": [
    {
     "data": {
      "text/plain": [
       "0.6668436978535583"
      ]
     },
     "execution_count": 255,
     "metadata": {},
     "output_type": "execute_result"
    }
   ],
   "source": [
    "mean_r2"
   ]
  },
  {
   "cell_type": "code",
   "execution_count": 256,
   "id": "0869454c",
   "metadata": {},
   "outputs": [
    {
     "data": {
      "text/plain": [
       "(0.6668436978535583, 0.6668436978535583)"
      ]
     },
     "execution_count": 256,
     "metadata": {},
     "output_type": "execute_result"
    }
   ],
   "source": [
    "lower_bound, upper_bound"
   ]
  },
  {
   "cell_type": "markdown",
   "id": "e563d73f",
   "metadata": {},
   "source": [
    "### The mean is 0.6668436978535583. The 95% confidence interval is (0.6668436978535583, 0.6668436978535583) for the true value of R2. "
   ]
  },
  {
   "cell_type": "code",
   "execution_count": null,
   "id": "47feb594",
   "metadata": {},
   "outputs": [],
   "source": []
  }
 ],
 "metadata": {
  "kernelspec": {
   "display_name": "Python 3 (ipykernel)",
   "language": "python",
   "name": "python3"
  },
  "language_info": {
   "codemirror_mode": {
    "name": "ipython",
    "version": 3
   },
   "file_extension": ".py",
   "mimetype": "text/x-python",
   "name": "python",
   "nbconvert_exporter": "python",
   "pygments_lexer": "ipython3",
   "version": "3.11.6"
  }
 },
 "nbformat": 4,
 "nbformat_minor": 5
}
