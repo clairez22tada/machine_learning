{
 "cells": [
  {
   "cell_type": "code",
   "execution_count": 179,
   "id": "558613c8-eb0e-45e4-aab5-619846856506",
   "metadata": {},
   "outputs": [],
   "source": [
    "import numpy as np\n",
    "import pandas as pd\n",
    "import matplotlib.pyplot as plt\n",
    "from sklearn.model_selection import StratifiedKFold, train_test_split\n",
    "\n",
    "from plotnine import *\n",
    "\n",
    "from sklearn.ensemble import RandomForestClassifier\n",
    "from sklearn.model_selection import RandomizedSearchCV\n",
    "\n",
    "from sklearn.metrics import roc_auc_score\n",
    "from sklearn.linear_model import LogisticRegression\n",
    "from sklearn.model_selection import cross_val_score, KFold\n",
    "from sklearn.preprocessing import StandardScaler, LabelEncoder, OneHotEncoder\n",
    "from sklearn.feature_extraction import FeatureHasher\n",
    "\n",
    "\n",
    "pd.options.mode.chained_assignment = None  # default='warn'"
   ]
  },
  {
   "cell_type": "code",
   "execution_count": 180,
   "id": "788f410c-e466-4f0f-b9c2-566d305a39d4",
   "metadata": {},
   "outputs": [],
   "source": [
    "data = pd.read_csv('train.csv')"
   ]
  },
  {
   "cell_type": "code",
   "execution_count": 181,
   "id": "947351c1-abb6-4ff2-9966-4ec30b1bfb66",
   "metadata": {},
   "outputs": [
    {
     "data": {
      "text/html": [
       "<div>\n",
       "<style scoped>\n",
       "    .dataframe tbody tr th:only-of-type {\n",
       "        vertical-align: middle;\n",
       "    }\n",
       "\n",
       "    .dataframe tbody tr th {\n",
       "        vertical-align: top;\n",
       "    }\n",
       "\n",
       "    .dataframe thead th {\n",
       "        text-align: right;\n",
       "    }\n",
       "</style>\n",
       "<table border=\"1\" class=\"dataframe\">\n",
       "  <thead>\n",
       "    <tr style=\"text-align: right;\">\n",
       "      <th></th>\n",
       "      <th>id</th>\n",
       "      <th>bin_0</th>\n",
       "      <th>bin_1</th>\n",
       "      <th>bin_2</th>\n",
       "      <th>bin_3</th>\n",
       "      <th>bin_4</th>\n",
       "      <th>nom_0</th>\n",
       "      <th>nom_1</th>\n",
       "      <th>nom_2</th>\n",
       "      <th>nom_3</th>\n",
       "      <th>...</th>\n",
       "      <th>nom_9</th>\n",
       "      <th>ord_0</th>\n",
       "      <th>ord_1</th>\n",
       "      <th>ord_2</th>\n",
       "      <th>ord_3</th>\n",
       "      <th>ord_4</th>\n",
       "      <th>ord_5</th>\n",
       "      <th>day</th>\n",
       "      <th>month</th>\n",
       "      <th>target</th>\n",
       "    </tr>\n",
       "  </thead>\n",
       "  <tbody>\n",
       "    <tr>\n",
       "      <th>0</th>\n",
       "      <td>0</td>\n",
       "      <td>0</td>\n",
       "      <td>0</td>\n",
       "      <td>0</td>\n",
       "      <td>T</td>\n",
       "      <td>Y</td>\n",
       "      <td>Green</td>\n",
       "      <td>Triangle</td>\n",
       "      <td>Snake</td>\n",
       "      <td>Finland</td>\n",
       "      <td>...</td>\n",
       "      <td>2f4cb3d51</td>\n",
       "      <td>2</td>\n",
       "      <td>Grandmaster</td>\n",
       "      <td>Cold</td>\n",
       "      <td>h</td>\n",
       "      <td>D</td>\n",
       "      <td>kr</td>\n",
       "      <td>2</td>\n",
       "      <td>2</td>\n",
       "      <td>0</td>\n",
       "    </tr>\n",
       "    <tr>\n",
       "      <th>1</th>\n",
       "      <td>1</td>\n",
       "      <td>0</td>\n",
       "      <td>1</td>\n",
       "      <td>0</td>\n",
       "      <td>T</td>\n",
       "      <td>Y</td>\n",
       "      <td>Green</td>\n",
       "      <td>Trapezoid</td>\n",
       "      <td>Hamster</td>\n",
       "      <td>Russia</td>\n",
       "      <td>...</td>\n",
       "      <td>f83c56c21</td>\n",
       "      <td>1</td>\n",
       "      <td>Grandmaster</td>\n",
       "      <td>Hot</td>\n",
       "      <td>a</td>\n",
       "      <td>A</td>\n",
       "      <td>bF</td>\n",
       "      <td>7</td>\n",
       "      <td>8</td>\n",
       "      <td>0</td>\n",
       "    </tr>\n",
       "    <tr>\n",
       "      <th>2</th>\n",
       "      <td>2</td>\n",
       "      <td>0</td>\n",
       "      <td>0</td>\n",
       "      <td>0</td>\n",
       "      <td>F</td>\n",
       "      <td>Y</td>\n",
       "      <td>Blue</td>\n",
       "      <td>Trapezoid</td>\n",
       "      <td>Lion</td>\n",
       "      <td>Russia</td>\n",
       "      <td>...</td>\n",
       "      <td>ae6800dd0</td>\n",
       "      <td>1</td>\n",
       "      <td>Expert</td>\n",
       "      <td>Lava Hot</td>\n",
       "      <td>h</td>\n",
       "      <td>R</td>\n",
       "      <td>Jc</td>\n",
       "      <td>7</td>\n",
       "      <td>2</td>\n",
       "      <td>0</td>\n",
       "    </tr>\n",
       "    <tr>\n",
       "      <th>3</th>\n",
       "      <td>3</td>\n",
       "      <td>0</td>\n",
       "      <td>1</td>\n",
       "      <td>0</td>\n",
       "      <td>F</td>\n",
       "      <td>Y</td>\n",
       "      <td>Red</td>\n",
       "      <td>Trapezoid</td>\n",
       "      <td>Snake</td>\n",
       "      <td>Canada</td>\n",
       "      <td>...</td>\n",
       "      <td>8270f0d71</td>\n",
       "      <td>1</td>\n",
       "      <td>Grandmaster</td>\n",
       "      <td>Boiling Hot</td>\n",
       "      <td>i</td>\n",
       "      <td>D</td>\n",
       "      <td>kW</td>\n",
       "      <td>2</td>\n",
       "      <td>1</td>\n",
       "      <td>1</td>\n",
       "    </tr>\n",
       "    <tr>\n",
       "      <th>4</th>\n",
       "      <td>4</td>\n",
       "      <td>0</td>\n",
       "      <td>0</td>\n",
       "      <td>0</td>\n",
       "      <td>F</td>\n",
       "      <td>N</td>\n",
       "      <td>Red</td>\n",
       "      <td>Trapezoid</td>\n",
       "      <td>Lion</td>\n",
       "      <td>Canada</td>\n",
       "      <td>...</td>\n",
       "      <td>b164b72a7</td>\n",
       "      <td>1</td>\n",
       "      <td>Grandmaster</td>\n",
       "      <td>Freezing</td>\n",
       "      <td>a</td>\n",
       "      <td>R</td>\n",
       "      <td>qP</td>\n",
       "      <td>7</td>\n",
       "      <td>8</td>\n",
       "      <td>0</td>\n",
       "    </tr>\n",
       "  </tbody>\n",
       "</table>\n",
       "<p>5 rows × 25 columns</p>\n",
       "</div>"
      ],
      "text/plain": [
       "   id  bin_0  bin_1  bin_2 bin_3 bin_4  nom_0      nom_1    nom_2    nom_3  \\\n",
       "0   0      0      0      0     T     Y  Green   Triangle    Snake  Finland   \n",
       "1   1      0      1      0     T     Y  Green  Trapezoid  Hamster   Russia   \n",
       "2   2      0      0      0     F     Y   Blue  Trapezoid     Lion   Russia   \n",
       "3   3      0      1      0     F     Y    Red  Trapezoid    Snake   Canada   \n",
       "4   4      0      0      0     F     N    Red  Trapezoid     Lion   Canada   \n",
       "\n",
       "   ...      nom_9 ord_0        ord_1        ord_2 ord_3 ord_4  ord_5 day  \\\n",
       "0  ...  2f4cb3d51     2  Grandmaster         Cold     h     D     kr   2   \n",
       "1  ...  f83c56c21     1  Grandmaster          Hot     a     A     bF   7   \n",
       "2  ...  ae6800dd0     1       Expert     Lava Hot     h     R     Jc   7   \n",
       "3  ...  8270f0d71     1  Grandmaster  Boiling Hot     i     D     kW   2   \n",
       "4  ...  b164b72a7     1  Grandmaster     Freezing     a     R     qP   7   \n",
       "\n",
       "  month target  \n",
       "0     2      0  \n",
       "1     8      0  \n",
       "2     2      0  \n",
       "3     1      1  \n",
       "4     8      0  \n",
       "\n",
       "[5 rows x 25 columns]"
      ]
     },
     "execution_count": 181,
     "metadata": {},
     "output_type": "execute_result"
    }
   ],
   "source": [
    "data.head()"
   ]
  },
  {
   "cell_type": "markdown",
   "id": "c997204d-0be0-4e49-b33c-80fb6d747c80",
   "metadata": {},
   "source": [
    "# Q1"
   ]
  },
  {
   "cell_type": "code",
   "execution_count": 182,
   "id": "d6da8d2b-1bad-4fbc-99e7-38988d7faec8",
   "metadata": {},
   "outputs": [],
   "source": [
    "Y = data['target'].values\n",
    "X = data.drop(columns=['target'])"
   ]
  },
  {
   "cell_type": "code",
   "execution_count": 183,
   "id": "e2539215-6f03-4867-a8e8-321e9630b76f",
   "metadata": {},
   "outputs": [],
   "source": [
    "x_train_val, x_test, y_train_val, y_test = train_test_split(X, Y, test_size = 0.2, random_state = 5)"
   ]
  },
  {
   "cell_type": "code",
   "execution_count": 184,
   "id": "c181b141-bb95-419d-b03b-9300f5b3836e",
   "metadata": {},
   "outputs": [],
   "source": [
    "binary_cols = ['bin_0', 'bin_1', 'bin_2', 'bin_3', 'bin_4']\n",
    "x_train_val = pd.get_dummies(x_train_val, columns=binary_cols)\n",
    "x_test = pd.get_dummies(x_test, columns=binary_cols)"
   ]
  },
  {
   "cell_type": "code",
   "execution_count": 185,
   "id": "2073c74a-4c81-4803-be54-9b871e74d742",
   "metadata": {},
   "outputs": [],
   "source": [
    "ordinal_cols = ['ord_0', 'ord_3', 'ord_4', 'ord_5']\n",
    "label_encoder = LabelEncoder()\n",
    "for col in ordinal_cols:\n",
    "    x_train_val[col] = label_encoder.fit_transform(x_train_val[col])\n",
    "    x_test[col] = label_encoder.fit_transform(x_test[col])"
   ]
  },
  {
   "cell_type": "code",
   "execution_count": 193,
   "id": "79ae520f-4113-4c28-8f8a-28bf0bbf3faf",
   "metadata": {},
   "outputs": [
    {
     "name": "stdout",
     "output_type": "stream",
     "text": [
      "<class 'pandas.core.frame.DataFrame'>\n",
      "Index: 240000 entries, 117722 to 297827\n",
      "Data columns (total 29 columns):\n",
      " #   Column   Non-Null Count   Dtype \n",
      "---  ------   --------------   ----- \n",
      " 0   id       240000 non-null  int64 \n",
      " 1   nom_0    240000 non-null  object\n",
      " 2   nom_1    240000 non-null  object\n",
      " 3   nom_2    240000 non-null  object\n",
      " 4   nom_3    240000 non-null  object\n",
      " 5   nom_4    240000 non-null  object\n",
      " 6   nom_5    240000 non-null  object\n",
      " 7   nom_6    240000 non-null  object\n",
      " 8   nom_7    240000 non-null  object\n",
      " 9   nom_8    240000 non-null  object\n",
      " 10  nom_9    240000 non-null  object\n",
      " 11  ord_0    240000 non-null  int64 \n",
      " 12  ord_1    240000 non-null  object\n",
      " 13  ord_2    240000 non-null  object\n",
      " 14  ord_3    240000 non-null  int64 \n",
      " 15  ord_4    240000 non-null  int64 \n",
      " 16  ord_5    240000 non-null  int64 \n",
      " 17  day      240000 non-null  int64 \n",
      " 18  month    240000 non-null  int64 \n",
      " 19  bin_0_0  240000 non-null  bool  \n",
      " 20  bin_0_1  240000 non-null  bool  \n",
      " 21  bin_1_0  240000 non-null  bool  \n",
      " 22  bin_1_1  240000 non-null  bool  \n",
      " 23  bin_2_0  240000 non-null  bool  \n",
      " 24  bin_2_1  240000 non-null  bool  \n",
      " 25  bin_3_F  240000 non-null  bool  \n",
      " 26  bin_3_T  240000 non-null  bool  \n",
      " 27  bin_4_N  240000 non-null  bool  \n",
      " 28  bin_4_Y  240000 non-null  bool  \n",
      "dtypes: bool(10), int64(7), object(12)\n",
      "memory usage: 38.9+ MB\n"
     ]
    }
   ],
   "source": [
    "x_train_val.info()"
   ]
  },
  {
   "cell_type": "code",
   "execution_count": 61,
   "id": "372e7965-0637-4926-8ab7-e882a6b4e801",
   "metadata": {},
   "outputs": [],
   "source": [
    "hashing_cols = ['nom_0', 'nom_1', 'nom_2', 'nom_3', 'nom_4', 'nom_5', 'nom_6', 'nom_7', 'nom_8', 'nom_9', 'ord_1', 'ord_2']\n",
    "dimensions = [3, 5, 10, 15, 20]"
   ]
  },
  {
   "cell_type": "code",
   "execution_count": 202,
   "id": "ecb5e959-cc88-4299-a458-881c605e8d0c",
   "metadata": {},
   "outputs": [],
   "source": [
    "def hash_encode(data, cols, n_features):\n",
    "    hashed = pd.DataFrame()\n",
    "    for i in range(len(cols)):\n",
    "        x_i = data[cols[i]].astype(str)\n",
    "        hashed_i = hashing_trick(x_i, n_features = n_features)\n",
    "        hashed = pd.concat([hashed, hashed_i], axis=1)\n",
    "        data.drop(columns = cols, inplace = True)\n",
    "        hashed_data_list = [data.reset_index(), hashed.reset_index()]\n",
    "        return pd.concat(hashed_data_list, axis=1)"
   ]
  },
  {
   "cell_type": "code",
   "execution_count": 203,
   "id": "0dadb429-1c20-4e3c-9087-2cd9c8f9811b",
   "metadata": {},
   "outputs": [],
   "source": [
    "def hashing_trick(x: pd.DataFrame, n_features: int = 3) -> pd.DataFrame:\n",
    "  \"\"\"Create a hash from a column of strings.\n",
    "\n",
    "  Args:\n",
    "    x (pd.DataFrame): A single column as a pandas data frame.\n",
    "    n_features (int): The number of features (columns) in the output matrices.\n",
    "\n",
    "  Returns:\n",
    "    A pandas data frame with 1 row and `n_features` columns containing the\n",
    "    hashed values.\n",
    "  \"\"\"\n",
    "\n",
    "  # Create new columns for output data frame.\n",
    "  names = [x.name + \"_\" + str(i + 1) for i in range(n_features)]\n",
    "\n",
    "  # Build hasher function.\n",
    "  h = FeatureHasher(input_type = 'string', n_features = n_features)\n",
    "\n",
    "  # Transform the column and convert to an array.\n",
    "  hashed = h.transform(x.to_numpy().reshape(-1, 1)).toarray()\n",
    "\n",
    "  # Add `names` and return hashed field.\n",
    "  return pd.DataFrame(hashed, columns = names)"
   ]
  },
  {
   "cell_type": "code",
   "execution_count": 204,
   "id": "d80630c6-b499-4837-a12a-8bfb44dd1f9b",
   "metadata": {},
   "outputs": [],
   "source": [
    "cv = KFold(n_splits=5, random_state=13, shuffle=True)"
   ]
  },
  {
   "cell_type": "code",
   "execution_count": 209,
   "id": "09e128ea-b9cb-4130-903f-1debecccd27d",
   "metadata": {},
   "outputs": [],
   "source": [
    "best_auc = 0\n",
    "auc_d = []\n",
    "best_dimension = None"
   ]
  },
  {
   "cell_type": "code",
   "execution_count": 215,
   "id": "b8fe15c9-2608-44d1-9cbd-653c5e2795b7",
   "metadata": {},
   "outputs": [
    {
     "name": "stdout",
     "output_type": "stream",
     "text": [
      "."
     ]
    },
    {
     "ename": "TypeError",
     "evalue": "list.append() takes exactly one argument (2 given)",
     "output_type": "error",
     "traceback": [
      "\u001b[0;31m---------------------------------------------------------------------------\u001b[0m",
      "\u001b[0;31mTypeError\u001b[0m                                 Traceback (most recent call last)",
      "Cell \u001b[0;32mIn[215], line 19\u001b[0m\n\u001b[1;32m     17\u001b[0m     y_val_fold_pred \u001b[38;5;241m=\u001b[39m lr\u001b[38;5;241m.\u001b[39mpredict_proba(x_val_fold_scaled)[:, \u001b[38;5;241m1\u001b[39m]\n\u001b[1;32m     18\u001b[0m     aucscore \u001b[38;5;241m=\u001b[39m roc_auc_score(y_val_fold, y_val_fold_pred)\n\u001b[0;32m---> 19\u001b[0m     \u001b[43mauc_d_fold\u001b[49m\u001b[38;5;241;43m.\u001b[39;49m\u001b[43mappend\u001b[49m\u001b[43m(\u001b[49m\u001b[43md\u001b[49m\u001b[43m,\u001b[49m\u001b[43m \u001b[49m\u001b[43maucscore\u001b[49m\u001b[43m)\u001b[49m\n\u001b[1;32m     20\u001b[0m auc_d\u001b[38;5;241m.\u001b[39mappend(auc_d_fold)\n",
      "\u001b[0;31mTypeError\u001b[0m: list.append() takes exactly one argument (2 given)"
     ]
    }
   ],
   "source": [
    "for d in dimensions:\n",
    "    auc_d_fold = []\n",
    "    for train_fold, val_fold in cv.split(x_train_val):\n",
    "        print('.', end ='')\n",
    "        x_train_fold = x_train_val.iloc[train_fold, :].copy()\n",
    "        x_val_fold = x_train_val.iloc[val_fold, :].copy()\n",
    "        y_train_fold = y_train_val[train_fold].copy()\n",
    "        y_val_fold = y_train_val[val_fold].copy()\n",
    "        x_train_fold = hash_encode(x_train_fold, hashing_cols, d)\n",
    "        x_val_fold = hash_encode(x_val_fold, hashing_cols, d)\n",
    "        scaler = StandardScaler()\n",
    "        scaler.fit(x_train_fold)\n",
    "        x_train_fold_scaled = scaler.transform(x_train_fold)\n",
    "        x_val_fold_scaled = scaler.transform(x_val_fold)\n",
    "        lr = LogisticRegression(penalty = 'l2', C = 1, random_state =13)\n",
    "        lr.fit(x_train_fold_scaled, y_train_fold)\n",
    "        y_val_fold_pred = lr.predict_proba(x_val_fold_scaled)[:, 1]\n",
    "        aucscore = roc_auc_score(y_val_fold, y_val_fold_pred)\n",
    "        auc_d_fold.append(aucscore)\n",
    "    auc_d.append(auc_d_fold)\n"
   ]
  },
  {
   "cell_type": "code",
   "execution_count": 216,
   "id": "b8148185-09a8-4c95-8ea2-f67d71b90259",
   "metadata": {},
   "outputs": [
    {
     "name": "stdout",
     "output_type": "stream",
     "text": [
      "Best Hashing Dimension: 3\n",
      "Cross-validated AUC: 0.7072987454722004\n"
     ]
    }
   ],
   "source": [
    "mean_auc = np.mean(auc_d)\n",
    "\n",
    "if mean_auc > best_auc:\n",
    "    best_auc = mean_auc\n",
    "    best_dimension = d\n",
    "\n",
    "print(f\"Best Hashing Dimension: {best_dimension}\")\n",
    "print(f\"Cross-validated AUC: {best_auc}\")"
   ]
  },
  {
   "cell_type": "code",
   "execution_count": null,
   "id": "907510a6-4089-4569-8ed4-4e66e626dc30",
   "metadata": {},
   "outputs": [],
   "source": [
    "unique_hash_values = np.unique(x_train_hashed)\n",
    "len(unique_hash_values)"
   ]
  },
  {
   "cell_type": "code",
   "execution_count": 64,
   "id": "cc97f31e-1165-4ef2-baa6-1d81078ca30c",
   "metadata": {},
   "outputs": [
    {
     "name": "stdout",
     "output_type": "stream",
     "text": [
      "Best Hashing Dimension: 15\n",
      "Cross-validated AUC: 0.7095097186306966\n"
     ]
    }
   ],
   "source": [
    "for d in dimensions:\n",
    "    hasher = FeatureHasher(n_features=d, input_type='string')\n",
    "    x_train_hashed = hasher.transform(x_train[hashing_cols].apply(lambda x: [str(val) for val in x], axis=1)).toarray()\n",
    "\n",
    "    # Scale features\n",
    "    scaler = StandardScaler()\n",
    "    x_train_scaled = scaler.fit_transform(np.concatenate([x_train_hashed, x_train.select_dtypes(include=['int', 'float']).values], axis=1))\n",
    "\n",
    "    # Train logistic regression model\n",
    "    model = LogisticRegression(penalty='l2', C=1)\n",
    "    \n",
    "    # Cross-validate\n",
    "    auc_scores = cross_val_score(model, x_train_scaled, y_train, cv=cv, scoring='roc_auc')\n",
    "    mean_auc = np.mean(auc_scores)\n",
    "\n",
    "\n",
    "    # Update best dimension if necessary\n",
    "    if mean_auc > best_auc:\n",
    "        best_auc = mean_auc\n",
    "        best_dimension = d\n",
    "\n",
    "# Best dimension\n",
    "print(f\"Best Hashing Dimension: {best_dimension}\")\n",
    "print(f\"Cross-validated AUC: {best_auc}\")"
   ]
  },
  {
   "cell_type": "code",
   "execution_count": 65,
   "id": "e4db8495-23b4-4c03-b7e9-e5e3ffbeafc4",
   "metadata": {},
   "outputs": [
    {
     "data": {
      "text/html": [
       "<style>#sk-container-id-3 {color: black;}#sk-container-id-3 pre{padding: 0;}#sk-container-id-3 div.sk-toggleable {background-color: white;}#sk-container-id-3 label.sk-toggleable__label {cursor: pointer;display: block;width: 100%;margin-bottom: 0;padding: 0.3em;box-sizing: border-box;text-align: center;}#sk-container-id-3 label.sk-toggleable__label-arrow:before {content: \"▸\";float: left;margin-right: 0.25em;color: #696969;}#sk-container-id-3 label.sk-toggleable__label-arrow:hover:before {color: black;}#sk-container-id-3 div.sk-estimator:hover label.sk-toggleable__label-arrow:before {color: black;}#sk-container-id-3 div.sk-toggleable__content {max-height: 0;max-width: 0;overflow: hidden;text-align: left;background-color: #f0f8ff;}#sk-container-id-3 div.sk-toggleable__content pre {margin: 0.2em;color: black;border-radius: 0.25em;background-color: #f0f8ff;}#sk-container-id-3 input.sk-toggleable__control:checked~div.sk-toggleable__content {max-height: 200px;max-width: 100%;overflow: auto;}#sk-container-id-3 input.sk-toggleable__control:checked~label.sk-toggleable__label-arrow:before {content: \"▾\";}#sk-container-id-3 div.sk-estimator input.sk-toggleable__control:checked~label.sk-toggleable__label {background-color: #d4ebff;}#sk-container-id-3 div.sk-label input.sk-toggleable__control:checked~label.sk-toggleable__label {background-color: #d4ebff;}#sk-container-id-3 input.sk-hidden--visually {border: 0;clip: rect(1px 1px 1px 1px);clip: rect(1px, 1px, 1px, 1px);height: 1px;margin: -1px;overflow: hidden;padding: 0;position: absolute;width: 1px;}#sk-container-id-3 div.sk-estimator {font-family: monospace;background-color: #f0f8ff;border: 1px dotted black;border-radius: 0.25em;box-sizing: border-box;margin-bottom: 0.5em;}#sk-container-id-3 div.sk-estimator:hover {background-color: #d4ebff;}#sk-container-id-3 div.sk-parallel-item::after {content: \"\";width: 100%;border-bottom: 1px solid gray;flex-grow: 1;}#sk-container-id-3 div.sk-label:hover label.sk-toggleable__label {background-color: #d4ebff;}#sk-container-id-3 div.sk-serial::before {content: \"\";position: absolute;border-left: 1px solid gray;box-sizing: border-box;top: 0;bottom: 0;left: 50%;z-index: 0;}#sk-container-id-3 div.sk-serial {display: flex;flex-direction: column;align-items: center;background-color: white;padding-right: 0.2em;padding-left: 0.2em;position: relative;}#sk-container-id-3 div.sk-item {position: relative;z-index: 1;}#sk-container-id-3 div.sk-parallel {display: flex;align-items: stretch;justify-content: center;background-color: white;position: relative;}#sk-container-id-3 div.sk-item::before, #sk-container-id-3 div.sk-parallel-item::before {content: \"\";position: absolute;border-left: 1px solid gray;box-sizing: border-box;top: 0;bottom: 0;left: 50%;z-index: -1;}#sk-container-id-3 div.sk-parallel-item {display: flex;flex-direction: column;z-index: 1;position: relative;background-color: white;}#sk-container-id-3 div.sk-parallel-item:first-child::after {align-self: flex-end;width: 50%;}#sk-container-id-3 div.sk-parallel-item:last-child::after {align-self: flex-start;width: 50%;}#sk-container-id-3 div.sk-parallel-item:only-child::after {width: 0;}#sk-container-id-3 div.sk-dashed-wrapped {border: 1px dashed gray;margin: 0 0.4em 0.5em 0.4em;box-sizing: border-box;padding-bottom: 0.4em;background-color: white;}#sk-container-id-3 div.sk-label label {font-family: monospace;font-weight: bold;display: inline-block;line-height: 1.2em;}#sk-container-id-3 div.sk-label-container {text-align: center;}#sk-container-id-3 div.sk-container {/* jupyter's `normalize.less` sets `[hidden] { display: none; }` but bootstrap.min.css set `[hidden] { display: none !important; }` so we also need the `!important` here to be able to override the default hidden behavior on the sphinx rendered scikit-learn.org. See: https://github.com/scikit-learn/scikit-learn/issues/21755 */display: inline-block !important;position: relative;}#sk-container-id-3 div.sk-text-repr-fallback {display: none;}</style><div id=\"sk-container-id-3\" class=\"sk-top-container\"><div class=\"sk-text-repr-fallback\"><pre>LogisticRegression(C=1)</pre><b>In a Jupyter environment, please rerun this cell to show the HTML representation or trust the notebook. <br />On GitHub, the HTML representation is unable to render, please try loading this page with nbviewer.org.</b></div><div class=\"sk-container\" hidden><div class=\"sk-item\"><div class=\"sk-estimator sk-toggleable\"><input class=\"sk-toggleable__control sk-hidden--visually\" id=\"sk-estimator-id-3\" type=\"checkbox\" checked><label for=\"sk-estimator-id-3\" class=\"sk-toggleable__label sk-toggleable__label-arrow\">LogisticRegression</label><div class=\"sk-toggleable__content\"><pre>LogisticRegression(C=1)</pre></div></div></div></div></div>"
      ],
      "text/plain": [
       "LogisticRegression(C=1)"
      ]
     },
     "execution_count": 65,
     "metadata": {},
     "output_type": "execute_result"
    }
   ],
   "source": [
    "hasher = FeatureHasher(n_features=15, input_type='string')\n",
    "x_train_hashed = hasher.transform(x_train[hashing_cols].apply(lambda x: [str(val) for val in x], axis=1)).toarray()\n",
    "x_train_scaled = scaler.fit_transform(np.concatenate([x_train_hashed, x_train.select_dtypes(include=['int', 'float']).values], axis=1))\n",
    "\n",
    "model = LogisticRegression(penalty='l2', C=1)\n",
    "model.fit(x_train_scaled, y_train)"
   ]
  },
  {
   "cell_type": "code",
   "execution_count": 66,
   "id": "d2d768d9-b301-4d66-bebb-29b8e97c323e",
   "metadata": {},
   "outputs": [
    {
     "name": "stdout",
     "output_type": "stream",
     "text": [
      "Out of Sample AUC: 0.7121871929809833\n"
     ]
    }
   ],
   "source": [
    "x_test_hashed = hasher.transform(x_test[hashing_cols].apply(lambda x: [str(val) for val in x], axis=1)).toarray()\n",
    "x_test_scaled = scaler.fit_transform(np.concatenate([x_test_hashed, x_test.select_dtypes(include=['int', 'float']).values], axis=1))\n",
    "\n",
    "test_auc = roc_auc_score(y_test, model.predict_proba(x_test_scaled)[:, 1])\n",
    "print(f\"Out of Sample AUC: {test_auc}\")"
   ]
  },
  {
   "cell_type": "code",
   "execution_count": 67,
   "id": "fff5dcdb-4a6c-4946-bf9f-c9062ab5170d",
   "metadata": {},
   "outputs": [
    {
     "data": {
      "text/plain": [
       "13"
      ]
     },
     "execution_count": 67,
     "metadata": {},
     "output_type": "execute_result"
    }
   ],
   "source": [
    "unique_hash_values = np.unique(x_train_hashed)\n",
    "len(unique_hash_values)"
   ]
  },
  {
   "cell_type": "markdown",
   "id": "77129318-68b9-4219-a04c-9e6c71e13afb",
   "metadata": {},
   "source": [
    "### The number of unique hash values is less than the hashing dimension of 15. This suggests potential collisions. However since higher dimension (20) did not result in better auc score and would also create higher dimensionality of the feature space, I would still choose 15 as the hashing dimension."
   ]
  },
  {
   "cell_type": "markdown",
   "id": "736a1975-ea40-424b-a373-281c01215eb1",
   "metadata": {},
   "source": [
    "# Q2"
   ]
  },
  {
   "cell_type": "code",
   "execution_count": 68,
   "id": "63f68410-4a7e-4ad9-8b69-fe179fbb9dca",
   "metadata": {},
   "outputs": [
    {
     "data": {
      "text/plain": [
       "array([0, 1])"
      ]
     },
     "execution_count": 68,
     "metadata": {},
     "output_type": "execute_result"
    }
   ],
   "source": [
    "np.unique(y_train)"
   ]
  },
  {
   "cell_type": "code",
   "execution_count": 104,
   "id": "cb091875-d160-4704-a448-fc2f7e8672d8",
   "metadata": {},
   "outputs": [],
   "source": [
    "def reg_target_encoding(data, target, col):\n",
    "    \n",
    "    cv = StratifiedKFold(n_splits=5, random_state=13, shuffle=True)\n",
    "    global_mean = data[target].mean()\n",
    "    \n",
    "    for train_idx, val_idx in cv.split(data, data[target]):\n",
    "        x_train_fold = data.iloc[train_idx].copy()\n",
    "        x_val_fold = data.iloc[val_idx].copy()\n",
    "        \n",
    "        new_col = f\"{col}_mean_enc\"\n",
    "        x_train_fold[new_col] = np.nan\n",
    "        \n",
    "        mean_encoding = x_train_fold.groupby(col)[target].mean()\n",
    "        data.loc[val_idx, new_col] = x_val_fold[col].map(mean_encoding)\n",
    "\n",
    "    data[new_col].fillna(global_mean, inplace=True)                                             \n",
    "    \n",
    "    return data"
   ]
  },
  {
   "cell_type": "code",
   "execution_count": 145,
   "id": "f8a2ec9f-26d3-4048-a52c-8483d8acf738",
   "metadata": {},
   "outputs": [],
   "source": [
    "\n",
    "def reg_target_encoding(x, y, col, stratify=False, n_splits=5, random_state=None):\n",
    "    \"\"\"\n",
    "    Regularized Target Encoding function.\n",
    "\n",
    "    Parameters:\n",
    "    - x: DataFrame, training data.\n",
    "    - y: Series, target variable.\n",
    "    - col: str, the column for mean encoding.\n",
    "    - stratify: bool, whether to use StratifiedKFold for cross-validation (default is False).\n",
    "    - n_splits: int, number of splits for cross-validation (default is 5).\n",
    "    - random_state: int, random seed for reproducibility (default is None).\n",
    "\n",
    "    Returns:\n",
    "    - x: DataFrame, with new mean encoded column added.\n",
    "    \"\"\"\n",
    "\n",
    "    if stratify:\n",
    "        cv = StratifiedKFold(n_splits=n_splits, shuffle=True, random_state=random_state)\n",
    "    else:\n",
    "        cv = KFold(n_splits=n_splits, shuffle=True, random_state=random_state)\n",
    "\n",
    "    new_col = col + '_mean_enc'\n",
    "    x[new_col] = pd.Series([])\n",
    "\n",
    "    for train_index, test_index in cv.split(x, y):\n",
    "        mean_enc = pd.Series(y.loc[train_index]).groupby(x.loc[train_index][col]).mean()\n",
    "        x.loc[test_index, new_col] = x.loc[test_index, col].map(mean_enc)\n",
    "\n",
    "    x[new_col] = x[new_col].fillna(y.mean())\n",
    "\n",
    "    return x"
   ]
  },
  {
   "cell_type": "code",
   "execution_count": 146,
   "id": "9d7a950f-de3e-47fb-a9d5-a519ed920cb4",
   "metadata": {},
   "outputs": [
    {
     "ename": "AttributeError",
     "evalue": "'numpy.ndarray' object has no attribute 'loc'",
     "output_type": "error",
     "traceback": [
      "\u001b[0;31m---------------------------------------------------------------------------\u001b[0m",
      "\u001b[0;31mAttributeError\u001b[0m                            Traceback (most recent call last)",
      "Cell \u001b[0;32mIn[146], line 1\u001b[0m\n\u001b[0;32m----> 1\u001b[0m \u001b[43mreg_target_encoding\u001b[49m\u001b[43m(\u001b[49m\u001b[43mx_train\u001b[49m\u001b[43m,\u001b[49m\u001b[43m \u001b[49m\u001b[43my_train\u001b[49m\u001b[43m,\u001b[49m\u001b[43m \u001b[49m\u001b[38;5;124;43m'\u001b[39;49m\u001b[38;5;124;43mord_2\u001b[39;49m\u001b[38;5;124;43m'\u001b[39;49m\u001b[43m)\u001b[49m\n",
      "Cell \u001b[0;32mIn[145], line 26\u001b[0m, in \u001b[0;36mreg_target_encoding\u001b[0;34m(x, y, col, stratify, n_splits, random_state)\u001b[0m\n\u001b[1;32m     23\u001b[0m x[new_col] \u001b[38;5;241m=\u001b[39m pd\u001b[38;5;241m.\u001b[39mSeries([])\n\u001b[1;32m     25\u001b[0m \u001b[38;5;28;01mfor\u001b[39;00m train_index, test_index \u001b[38;5;129;01min\u001b[39;00m cv\u001b[38;5;241m.\u001b[39msplit(x, y):\n\u001b[0;32m---> 26\u001b[0m     mean_enc \u001b[38;5;241m=\u001b[39m pd\u001b[38;5;241m.\u001b[39mSeries(\u001b[43my\u001b[49m\u001b[38;5;241;43m.\u001b[39;49m\u001b[43mloc\u001b[49m[train_index])\u001b[38;5;241m.\u001b[39mgroupby(x\u001b[38;5;241m.\u001b[39mloc[train_index][col])\u001b[38;5;241m.\u001b[39mmean()\n\u001b[1;32m     27\u001b[0m     x\u001b[38;5;241m.\u001b[39mloc[test_index, new_col] \u001b[38;5;241m=\u001b[39m x\u001b[38;5;241m.\u001b[39mloc[test_index, col]\u001b[38;5;241m.\u001b[39mmap(mean_enc)\n\u001b[1;32m     29\u001b[0m x[new_col] \u001b[38;5;241m=\u001b[39m x[new_col]\u001b[38;5;241m.\u001b[39mfillna(y\u001b[38;5;241m.\u001b[39mmean())\n",
      "\u001b[0;31mAttributeError\u001b[0m: 'numpy.ndarray' object has no attribute 'loc'"
     ]
    }
   ],
   "source": [
    "reg_target_encoding(x_train, y_train, 'ord_2')"
   ]
  },
  {
   "cell_type": "code",
   "execution_count": 105,
   "id": "3764b1e0-3160-4940-8bff-02e91ec23132",
   "metadata": {},
   "outputs": [],
   "source": [
    "def mean_encoding_test(x_train:np.array, y_train:np.array, x_test: np.array, col:str) -> np.array:\n",
    "    mean_enc = pd.Series(y_train).groupby(x_train[col]).mean()\n",
    "    global_mean = y_train.mean()\n",
    "    new_col = col + '_mean_enc'\n",
    "    x_test[new_col] = np.nan\n",
    "    x_test[new_col] = x_test[col].map(mean_enc)\n",
    "\n",
    "    x_test[new_col].fillna(global_mean, inplace=True)\n",
    "    \n",
    "    return x_test"
   ]
  },
  {
   "cell_type": "code",
   "execution_count": 141,
   "id": "6c62ca98-9b58-4a99-a5ad-067d05045937",
   "metadata": {},
   "outputs": [],
   "source": [
    "x_train, x_test, y_train, y_test = (train_test_split(X, Y, test_size = 0.2, shuffle = True, random_state = 5))"
   ]
  },
  {
   "cell_type": "code",
   "execution_count": 131,
   "id": "db3ae79f-636e-4e62-97ea-4d0d18d37cda",
   "metadata": {},
   "outputs": [
    {
     "data": {
      "text/plain": [
       "(array([99816., 33768.,     0., 19654.,     0., 22227.,     0., 60627.,\n",
       "            0., 63908.]),\n",
       " array([0.22410983, 0.24209529, 0.26008075, 0.27806622, 0.29605168,\n",
       "        0.31403714, 0.33202261, 0.35000807, 0.36799353, 0.38597899,\n",
       "        0.40396446]),\n",
       " <BarContainer object of 10 artists>)"
      ]
     },
     "execution_count": 131,
     "metadata": {},
     "output_type": "execute_result"
    },
    {
     "data": {
      "image/png": "[encoded data removed]",
      "text/plain": [
       "<Figure size 640x480 with 1 Axes>"
      ]
     },
     "metadata": {},
     "output_type": "display_data"
    }
   ],
   "source": [
    "x_train = reg_target_encoding(data, 'target',col = 'ord_2')\n",
    "plt.hist(x_train['ord_2_mean_enc'])"
   ]
  },
  {
   "cell_type": "code",
   "execution_count": 128,
   "id": "c56a9daa-a5c0-43a4-a8ac-29302a7beb6c",
   "metadata": {},
   "outputs": [
    {
     "data": {
      "text/plain": [
       "count    300000.000000\n",
       "mean          0.305876\n",
       "std           0.071437\n",
       "min           0.224110\n",
       "25%           0.225440\n",
       "50%           0.289861\n",
       "75%           0.361486\n",
       "max           0.403964\n",
       "Name: ord_2_mean_enc, dtype: float64"
      ]
     },
     "execution_count": 128,
     "metadata": {},
     "output_type": "execute_result"
    }
   ],
   "source": [
    "x_train['ord_2_mean_enc'].describe()"
   ]
  },
  {
   "cell_type": "code",
   "execution_count": 129,
   "id": "90e60eeb-58a6-4622-9c5f-4282fa27c451",
   "metadata": {},
   "outputs": [
    {
     "data": {
      "text/plain": [
       "count    60000.000000\n",
       "mean         0.306498\n",
       "std          0.001586\n",
       "min          0.304220\n",
       "25%          0.305317\n",
       "50%          0.305970\n",
       "75%          0.306794\n",
       "max          0.310453\n",
       "Name: ord_2_mean_enc, dtype: float64"
      ]
     },
     "execution_count": 129,
     "metadata": {},
     "output_type": "execute_result"
    }
   ],
   "source": [
    "x_test = mean_encoding_test(x_train, y_train, x_test, 'ord_2')\n",
    "x_test['ord_2_mean_enc'].describe()"
   ]
  },
  {
   "cell_type": "code",
   "execution_count": 130,
   "id": "cae52f8c-4856-4c8f-ae7f-5bfa7c7ccf49",
   "metadata": {},
   "outputs": [
    {
     "data": {
      "text/plain": [
       "(array([ 3857., 12160., 17222.,     0., 19946.,     0.,     0.,     0.,\n",
       "            0.,  6815.]),\n",
       " array([0.30422014, 0.30484345, 0.30546677, 0.30609008, 0.3067134 ,\n",
       "        0.30733671, 0.30796003, 0.30858334, 0.30920665, 0.30982997,\n",
       "        0.31045328]),\n",
       " <BarContainer object of 10 artists>)"
      ]
     },
     "execution_count": 130,
     "metadata": {},
     "output_type": "execute_result"
    },
    {
     "data": {
      "image/png": "[encoded data removed]",
      "text/plain": [
       "<Figure size 640x480 with 1 Axes>"
      ]
     },
     "metadata": {},
     "output_type": "display_data"
    }
   ],
   "source": [
    "plt.hist(x_test['ord_2_mean_enc'])"
   ]
  },
  {
   "cell_type": "code",
   "execution_count": 132,
   "id": "4f8ed295-a667-402a-a8f4-a58da3218995",
   "metadata": {},
   "outputs": [
    {
     "data": {
      "text/plain": [
       "(array([ 37444.,      0.,      0.,      0., 101295.,  45979.,  36136.,\n",
       "         49659.,      0.,  29487.]),\n",
       " array([0.24340615, 0.25514884, 0.26689153, 0.27863422, 0.29037691,\n",
       "        0.3021196 , 0.31386229, 0.32560498, 0.33734767, 0.34909036,\n",
       "        0.36083305]),\n",
       " <BarContainer object of 10 artists>)"
      ]
     },
     "execution_count": 132,
     "metadata": {},
     "output_type": "execute_result"
    },
    {
     "data": {
      "image/png": "[encoded data removed]",
      "text/plain": [
       "<Figure size 640x480 with 1 Axes>"
      ]
     },
     "metadata": {},
     "output_type": "display_data"
    }
   ],
   "source": [
    "x_train = reg_target_encoding(data, 'target',col = 'nom_2')\n",
    "plt.hist(x_train['nom_2_mean_enc'])"
   ]
  },
  {
   "cell_type": "code",
   "execution_count": 133,
   "id": "964ef35d-3037-483f-a941-1eabee61d02f",
   "metadata": {},
   "outputs": [
    {
     "data": {
      "text/plain": [
       "count    300000.000000\n",
       "mean          0.305880\n",
       "std           0.030999\n",
       "min           0.243406\n",
       "25%           0.292757\n",
       "50%           0.307122\n",
       "75%           0.334334\n",
       "max           0.360833\n",
       "Name: nom_2_mean_enc, dtype: float64"
      ]
     },
     "execution_count": 133,
     "metadata": {},
     "output_type": "execute_result"
    }
   ],
   "source": [
    "x_train['nom_2_mean_enc'].describe()"
   ]
  },
  {
   "cell_type": "code",
   "execution_count": 134,
   "id": "80484018-3dc3-4da9-8f35-ed36f7d5a9fa",
   "metadata": {},
   "outputs": [
    {
     "data": {
      "text/plain": [
       "count    60000.000000\n",
       "mean         0.306491\n",
       "std          0.001910\n",
       "min          0.303306\n",
       "25%          0.305751\n",
       "50%          0.306102\n",
       "75%          0.308309\n",
       "max          0.308309\n",
       "Name: nom_2_mean_enc, dtype: float64"
      ]
     },
     "execution_count": 134,
     "metadata": {},
     "output_type": "execute_result"
    }
   ],
   "source": [
    "x_test = mean_encoding_test(x_train, y_train, x_test, 'nom_2')\n",
    "x_test['nom_2_mean_enc'].describe()"
   ]
  },
  {
   "cell_type": "code",
   "execution_count": 135,
   "id": "01bbf2c5-7e58-4b6d-a257-61f29cf952a8",
   "metadata": {},
   "outputs": [
    {
     "data": {
      "text/plain": [
       "(array([13118.,     0.,     0.,     0.,  9190.,  9880.,     0.,     0.,\n",
       "            0., 27812.]),\n",
       " array([0.30330624, 0.30380654, 0.30430684, 0.30480713, 0.30530743,\n",
       "        0.30580773, 0.30630802, 0.30680832, 0.30730862, 0.30780891,\n",
       "        0.30830921]),\n",
       " <BarContainer object of 10 artists>)"
      ]
     },
     "execution_count": 135,
     "metadata": {},
     "output_type": "execute_result"
    },
    {
     "data": {
      "image/png": "[encoded data removed]",
      "text/plain": [
       "<Figure size 640x480 with 1 Axes>"
      ]
     },
     "metadata": {},
     "output_type": "display_data"
    }
   ],
   "source": [
    "plt.hist(x_test['nom_2_mean_enc'])"
   ]
  },
  {
   "cell_type": "markdown",
   "id": "cd2a8951-e9e4-42da-be22-ff6f738002f5",
   "metadata": {},
   "source": [
    "### Mean encoding does not seem to be performing very well on the training set could be due to the size of the training data that has a larger distribution of the target variable."
   ]
  },
  {
   "cell_type": "code",
   "execution_count": null,
   "id": "aa5ad008-7266-4e29-b011-307f12a9a5b8",
   "metadata": {},
   "outputs": [],
   "source": []
  }
 ],
 "metadata": {
  "kernelspec": {
   "display_name": "Python 3 (ipykernel)",
   "language": "python",
   "name": "python3"
  },
  "language_info": {
   "codemirror_mode": {
    "name": "ipython",
    "version": 3
   },
   "file_extension": ".py",
   "mimetype": "text/x-python",
   "name": "python",
   "nbconvert_exporter": "python",
   "pygments_lexer": "ipython3",
   "version": "3.11.6"
  }
 },
 "nbformat": 4,
 "nbformat_minor": 5
}
