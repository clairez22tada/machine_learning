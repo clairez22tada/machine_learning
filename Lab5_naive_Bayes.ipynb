{
 "cells": [
  {
   "cell_type": "markdown",
   "metadata": {},
   "source": [
    "# Lab 5: Naive Bayes \n",
    "\n",
    "In this lab let's implement Naive Bayes by hand on some overly simplistic examples just so that we can get a sense of how the computations work and also some experience creating the vocabulary from plain text data.\n",
    "\n",
    "## Tools\n",
    "\n",
    "#### Libraries:\n",
    "\n",
    "- pandas: for data processing  \n",
    "- numpy: for processing and computations\n",
    "\n",
    "#### Datasets: \n",
    "\n",
    "None\n",
    "\n",
    "## Setup"
   ]
  },
  {
   "cell_type": "code",
   "execution_count": 1,
   "metadata": {},
   "outputs": [],
   "source": [
    "# Import the only libraries we need \n",
    "import numpy as np\n",
    "import pandas as pd"
   ]
  },
  {
   "cell_type": "markdown",
   "metadata": {},
   "source": [
    "## Text Descriptions of Foods\n",
    "\n",
    "Imagine you have 4 apples with these attributes"
   ]
  },
  {
   "cell_type": "code",
   "execution_count": 2,
   "metadata": {},
   "outputs": [],
   "source": [
    "apples_docs = [\n",
    "    \"red round\",\n",
    "    \"red round\",\n",
    "    \"green sour round\",\n",
    "    \"green round\",\n",
    "]"
   ]
  },
  {
   "cell_type": "markdown",
   "metadata": {},
   "source": [
    "and 3 bananas with these attributes:"
   ]
  },
  {
   "cell_type": "code",
   "execution_count": 3,
   "metadata": {},
   "outputs": [],
   "source": [
    "bananas_docs = [\n",
    "    \"yellow skinny\",\n",
    "    \"yellow skinny\",\n",
    "    \"green skinny\"\n",
    "]"
   ]
  },
  {
   "cell_type": "markdown",
   "metadata": {},
   "source": [
    "Split both lists into a list of lists such that each apple and banana is in its own list within the larger list."
   ]
  },
  {
   "cell_type": "code",
   "execution_count": 4,
   "metadata": {},
   "outputs": [],
   "source": [
    "apples = [a.split() for a in apples_docs]\n",
    "bananas = [b.split() for b in bananas_docs]"
   ]
  },
  {
   "cell_type": "code",
   "execution_count": 7,
   "metadata": {},
   "outputs": [
    {
     "data": {
      "text/plain": [
       "[['red', 'round'],\n",
       " ['red', 'round'],\n",
       " ['green', 'sour', 'round'],\n",
       " ['green', 'round']]"
      ]
     },
     "execution_count": 7,
     "metadata": {},
     "output_type": "execute_result"
    }
   ],
   "source": [
    "apples"
   ]
  },
  {
   "cell_type": "markdown",
   "metadata": {},
   "source": [
    "---\n",
    "\n",
    "**Q.** What is the sorted set of all attributes (assign to vocabulary variable $V$)?\n",
    "\n",
    "Let's ignore the unknown word issue in our vectors and in our computations for now. Create a sorted list of all of the unique attributes of apples and bananas. \n",
    "### ['green', 'red', 'round', 'skinny', 'sour', 'yellow']"
   ]
  },
  {
   "cell_type": "code",
   "execution_count": 5,
   "metadata": {},
   "outputs": [],
   "source": [
    "# your code here\n",
    "Va = set(np.concatenate(apples))\n",
    "Vb = set(np.concatenate(bananas))\n",
    "V = sorted(Va.union(Vb))"
   ]
  },
  {
   "cell_type": "code",
   "execution_count": 6,
   "metadata": {},
   "outputs": [
    {
     "data": {
      "text/plain": [
       "{'green', 'red', 'round', 'sour'}"
      ]
     },
     "execution_count": 6,
     "metadata": {},
     "output_type": "execute_result"
    }
   ],
   "source": [
    "Va"
   ]
  },
  {
   "cell_type": "code",
   "execution_count": 8,
   "metadata": {},
   "outputs": [
    {
     "data": {
      "text/plain": [
       "['green', 'red', 'round', 'skinny', 'sour', 'yellow']"
      ]
     },
     "execution_count": 8,
     "metadata": {},
     "output_type": "execute_result"
    }
   ],
   "source": [
    "V"
   ]
  },
  {
   "cell_type": "markdown",
   "metadata": {},
   "source": [
    "<details>\n",
    "<summary>Solution</summary>\n",
    "['green', 'red', 'round', 'skinny', 'sour', 'yellow']\n",
    "    \n",
    "You can compute like this:\n",
    "    \n",
    "```\n",
    "Va = set(np.concatenate(apples))\n",
    "Vb = set(np.concatenate(bananas))\n",
    "V = sorted(Va.union(Vb))\n",
    "```\n",
    "</details>"
   ]
  },
  {
   "cell_type": "markdown",
   "metadata": {},
   "source": [
    "---\n",
    "\n",
    "**Q**. What is the word vector for the \"red round\" apple?\n",
    "\n",
    "Now we have our vocabulary $V$, which you might think of as the column names of a document matrix where each row is a document. Here, the column values are the word counts, which will be 1 or 0 for our documents. Assume the sorted column order you've created above."
   ]
  },
  {
   "cell_type": "markdown",
   "metadata": {},
   "source": [
    "*your answer here*\n",
    "### The row vector is [0, 1, 1, 0, 0, 0] for \"red round"
   ]
  },
  {
   "cell_type": "markdown",
   "metadata": {},
   "source": [
    "<details>\n",
    "<summary>Solution</summary>\n",
    "    The row vector is <tt>[0, 1, 1, 0, 0, 0]</tt> for \"red round\"\n",
    "</details>"
   ]
  },
  {
   "cell_type": "markdown",
   "metadata": {},
   "source": [
    "---\n",
    "\n",
    "**Q**. What is the word vector for the \"green sour round\" apple?\n",
    "\n",
    "The column values are 1 if the word is mentioned otherwise 0. Assume the sorted column order."
   ]
  },
  {
   "cell_type": "markdown",
   "metadata": {},
   "source": [
    "### The row vector is [1, 0, 1, 0, 1, 0] for \"green sour round\""
   ]
  },
  {
   "cell_type": "markdown",
   "metadata": {},
   "source": [
    "*your answer here*"
   ]
  },
  {
   "cell_type": "markdown",
   "metadata": {},
   "source": [
    "<details>\n",
    "<summary>Solution</summary>\n",
    "    The row vector is <tt>[1, 0, 1, 0, 1, 0]</tt> for \"green sour round\"\n",
    "</details>"
   ]
  },
  {
   "cell_type": "markdown",
   "metadata": {},
   "source": [
    "---\n",
    "\n",
    "Let's look at all fruit vectors now and fruit target column"
   ]
  },
  {
   "cell_type": "code",
   "execution_count": 9,
   "metadata": {},
   "outputs": [
    {
     "data": {
      "text/html": [
       "<div>\n",
       "<style scoped>\n",
       "    .dataframe tbody tr th:only-of-type {\n",
       "        vertical-align: middle;\n",
       "    }\n",
       "\n",
       "    .dataframe tbody tr th {\n",
       "        vertical-align: top;\n",
       "    }\n",
       "\n",
       "    .dataframe thead th {\n",
       "        text-align: right;\n",
       "    }\n",
       "</style>\n",
       "<table border=\"1\" class=\"dataframe\">\n",
       "  <thead>\n",
       "    <tr style=\"text-align: right;\">\n",
       "      <th></th>\n",
       "      <th>green</th>\n",
       "      <th>red</th>\n",
       "      <th>round</th>\n",
       "      <th>skinny</th>\n",
       "      <th>sour</th>\n",
       "      <th>yellow</th>\n",
       "      <th>fruit</th>\n",
       "    </tr>\n",
       "  </thead>\n",
       "  <tbody>\n",
       "    <tr>\n",
       "      <th>0</th>\n",
       "      <td>0</td>\n",
       "      <td>1</td>\n",
       "      <td>1</td>\n",
       "      <td>0</td>\n",
       "      <td>0</td>\n",
       "      <td>0</td>\n",
       "      <td>0</td>\n",
       "    </tr>\n",
       "    <tr>\n",
       "      <th>1</th>\n",
       "      <td>0</td>\n",
       "      <td>1</td>\n",
       "      <td>1</td>\n",
       "      <td>0</td>\n",
       "      <td>0</td>\n",
       "      <td>0</td>\n",
       "      <td>0</td>\n",
       "    </tr>\n",
       "    <tr>\n",
       "      <th>2</th>\n",
       "      <td>1</td>\n",
       "      <td>0</td>\n",
       "      <td>1</td>\n",
       "      <td>0</td>\n",
       "      <td>1</td>\n",
       "      <td>0</td>\n",
       "      <td>0</td>\n",
       "    </tr>\n",
       "    <tr>\n",
       "      <th>3</th>\n",
       "      <td>1</td>\n",
       "      <td>0</td>\n",
       "      <td>1</td>\n",
       "      <td>0</td>\n",
       "      <td>0</td>\n",
       "      <td>0</td>\n",
       "      <td>0</td>\n",
       "    </tr>\n",
       "    <tr>\n",
       "      <th>4</th>\n",
       "      <td>0</td>\n",
       "      <td>0</td>\n",
       "      <td>0</td>\n",
       "      <td>1</td>\n",
       "      <td>0</td>\n",
       "      <td>1</td>\n",
       "      <td>1</td>\n",
       "    </tr>\n",
       "    <tr>\n",
       "      <th>5</th>\n",
       "      <td>0</td>\n",
       "      <td>0</td>\n",
       "      <td>0</td>\n",
       "      <td>1</td>\n",
       "      <td>0</td>\n",
       "      <td>1</td>\n",
       "      <td>1</td>\n",
       "    </tr>\n",
       "    <tr>\n",
       "      <th>6</th>\n",
       "      <td>1</td>\n",
       "      <td>0</td>\n",
       "      <td>0</td>\n",
       "      <td>1</td>\n",
       "      <td>0</td>\n",
       "      <td>0</td>\n",
       "      <td>1</td>\n",
       "    </tr>\n",
       "  </tbody>\n",
       "</table>\n",
       "</div>"
      ],
      "text/plain": [
       "   green  red  round  skinny  sour  yellow  fruit\n",
       "0      0    1      1       0     0       0      0\n",
       "1      0    1      1       0     0       0      0\n",
       "2      1    0      1       0     1       0      0\n",
       "3      1    0      1       0     0       0      0\n",
       "4      0    0      0       1     0       1      1\n",
       "5      0    0      0       1     0       1      1\n",
       "6      1    0      0       1     0       0      1"
      ]
     },
     "execution_count": 9,
     "metadata": {},
     "output_type": "execute_result"
    }
   ],
   "source": [
    "data = np.zeros((7,len(V)))\n",
    "for i,row in enumerate(apples+bananas):\n",
    "    for w in row:\n",
    "        data[i,V.index(w)] = 1\n",
    "df = pd.DataFrame(data,columns=V,dtype=int)\n",
    "df['fruit'] = [0,0,0,0,1,1,1]\n",
    "df"
   ]
  },
  {
   "cell_type": "code",
   "execution_count": 17,
   "metadata": {},
   "outputs": [
    {
     "data": {
      "text/plain": [
       "['green', 'red', 'round', 'skinny', 'sour', 'yellow']"
      ]
     },
     "execution_count": 17,
     "metadata": {},
     "output_type": "execute_result"
    }
   ],
   "source": [
    "columns=V\n",
    "columns"
   ]
  },
  {
   "cell_type": "code",
   "execution_count": 16,
   "metadata": {},
   "outputs": [
    {
     "data": {
      "text/plain": [
       "0"
      ]
     },
     "execution_count": 16,
     "metadata": {},
     "output_type": "execute_result"
    }
   ],
   "source": [
    "V.index('green')"
   ]
  },
  {
   "cell_type": "code",
   "execution_count": 12,
   "metadata": {},
   "outputs": [
    {
     "data": {
      "text/html": [
       "<div>\n",
       "<style scoped>\n",
       "    .dataframe tbody tr th:only-of-type {\n",
       "        vertical-align: middle;\n",
       "    }\n",
       "\n",
       "    .dataframe tbody tr th {\n",
       "        vertical-align: top;\n",
       "    }\n",
       "\n",
       "    .dataframe thead th {\n",
       "        text-align: right;\n",
       "    }\n",
       "</style>\n",
       "<table border=\"1\" class=\"dataframe\">\n",
       "  <thead>\n",
       "    <tr style=\"text-align: right;\">\n",
       "      <th></th>\n",
       "      <th>green</th>\n",
       "      <th>red</th>\n",
       "      <th>round</th>\n",
       "      <th>skinny</th>\n",
       "      <th>sour</th>\n",
       "      <th>yellow</th>\n",
       "      <th>fruit</th>\n",
       "    </tr>\n",
       "  </thead>\n",
       "  <tbody>\n",
       "    <tr>\n",
       "      <th>0</th>\n",
       "      <td>0</td>\n",
       "      <td>1</td>\n",
       "      <td>1</td>\n",
       "      <td>0</td>\n",
       "      <td>0</td>\n",
       "      <td>0</td>\n",
       "      <td>0</td>\n",
       "    </tr>\n",
       "    <tr>\n",
       "      <th>1</th>\n",
       "      <td>0</td>\n",
       "      <td>1</td>\n",
       "      <td>1</td>\n",
       "      <td>0</td>\n",
       "      <td>0</td>\n",
       "      <td>0</td>\n",
       "      <td>0</td>\n",
       "    </tr>\n",
       "    <tr>\n",
       "      <th>2</th>\n",
       "      <td>1</td>\n",
       "      <td>0</td>\n",
       "      <td>1</td>\n",
       "      <td>0</td>\n",
       "      <td>1</td>\n",
       "      <td>0</td>\n",
       "      <td>0</td>\n",
       "    </tr>\n",
       "    <tr>\n",
       "      <th>3</th>\n",
       "      <td>1</td>\n",
       "      <td>0</td>\n",
       "      <td>1</td>\n",
       "      <td>0</td>\n",
       "      <td>0</td>\n",
       "      <td>0</td>\n",
       "      <td>0</td>\n",
       "    </tr>\n",
       "    <tr>\n",
       "      <th>4</th>\n",
       "      <td>0</td>\n",
       "      <td>0</td>\n",
       "      <td>0</td>\n",
       "      <td>1</td>\n",
       "      <td>0</td>\n",
       "      <td>1</td>\n",
       "      <td>1</td>\n",
       "    </tr>\n",
       "    <tr>\n",
       "      <th>5</th>\n",
       "      <td>0</td>\n",
       "      <td>0</td>\n",
       "      <td>0</td>\n",
       "      <td>1</td>\n",
       "      <td>0</td>\n",
       "      <td>1</td>\n",
       "      <td>1</td>\n",
       "    </tr>\n",
       "    <tr>\n",
       "      <th>6</th>\n",
       "      <td>1</td>\n",
       "      <td>0</td>\n",
       "      <td>0</td>\n",
       "      <td>1</td>\n",
       "      <td>0</td>\n",
       "      <td>0</td>\n",
       "      <td>1</td>\n",
       "    </tr>\n",
       "  </tbody>\n",
       "</table>\n",
       "</div>"
      ],
      "text/plain": [
       "   green  red  round  skinny  sour  yellow  fruit\n",
       "0      0    1      1       0     0       0      0\n",
       "1      0    1      1       0     0       0      0\n",
       "2      1    0      1       0     1       0      0\n",
       "3      1    0      1       0     0       0      0\n",
       "4      0    0      0       1     0       1      1\n",
       "5      0    0      0       1     0       1      1\n",
       "6      1    0      0       1     0       0      1"
      ]
     },
     "execution_count": 12,
     "metadata": {},
     "output_type": "execute_result"
    }
   ],
   "source": [
    "df"
   ]
  },
  {
   "cell_type": "markdown",
   "metadata": {},
   "source": [
    "---\n",
    "\n",
    "**Q.** What is a good estimate of $P(apple)$=`P_apple` and $P(banana)$=`P_banana`?\n",
    "\n",
    "(Define those variables)"
   ]
  },
  {
   "cell_type": "code",
   "execution_count": 18,
   "metadata": {},
   "outputs": [
    {
     "data": {
      "text/plain": [
       "0.42857142857142855"
      ]
     },
     "execution_count": 18,
     "metadata": {},
     "output_type": "execute_result"
    }
   ],
   "source": [
    "# your code here\n",
    "P_apple = 4/7\n",
    "P_banana = 3/7\n",
    "P_apple"
   ]
  },
  {
   "cell_type": "code",
   "execution_count": 19,
   "metadata": {},
   "outputs": [
    {
     "data": {
      "text/plain": [
       "0.42857142857142855"
      ]
     },
     "execution_count": 19,
     "metadata": {},
     "output_type": "execute_result"
    }
   ],
   "source": [
    "P_banana"
   ]
  },
  {
   "cell_type": "markdown",
   "metadata": {},
   "source": [
    "<details>\n",
    "<summary>Solution</summary>\n",
    "<pre>\n",
    "P_apple = 4/7\n",
    "P_banana = 3/7\n",
    "</pre>\n",
    "</details>"
   ]
  },
  {
   "cell_type": "markdown",
   "metadata": {},
   "source": [
    "---\n",
    "\n",
    "**Q.** What are good estimates of $P(red|apple)$ and $P(red|banana)$?\n",
    "\n",
    "Count number of times red appears and divide by number of words in apple docs, then do for banana."
   ]
  },
  {
   "cell_type": "markdown",
   "metadata": {},
   "source": [
    "*your answer here*\n",
    "### P(red|apple) = 2/9\n",
    "### P(red|banana) = 0/6"
   ]
  },
  {
   "cell_type": "markdown",
   "metadata": {},
   "source": [
    "<details>\n",
    "<summary>Solution</summary>\n",
    "P(red|apple) = 2/9 words in apples are red and 0/6 words in bananas are red.\n",
    "</details>"
   ]
  },
  {
   "cell_type": "markdown",
   "metadata": {},
   "source": [
    "---\n",
    "\n",
    "**Q.** What are good estimates of $P(green|apple)$ and $P(green|banana)$?\n",
    "### P(green|apple) = 2/9 \n",
    "### P(green|banana) = 1/6"
   ]
  },
  {
   "cell_type": "markdown",
   "metadata": {},
   "source": [
    "*your answer here*"
   ]
  },
  {
   "cell_type": "markdown",
   "metadata": {},
   "source": [
    "<details>\n",
    "<summary>Solution</summary>\n",
    "2/9 apples are green and 1/6 bananas are green.\n",
    "</details>"
   ]
  },
  {
   "cell_type": "markdown",
   "metadata": {},
   "source": [
    "## Laplace smoothing of $P(w|c)$"
   ]
  },
  {
   "cell_type": "markdown",
   "metadata": {},
   "source": [
    "**Q.** If $P(skinny|apple)=0$, what is our smoothed estimate? Do not include the \"unknown\" words in your estimate (leave off the +1 in the denominator).\n",
    "### 𝑃(𝑠𝑘𝑖𝑛𝑛𝑦|𝑎𝑝𝑝𝑙𝑒)=(𝑤𝑜𝑟𝑑𝑐𝑜𝑢𝑛𝑡(𝑠𝑘𝑖𝑛𝑛𝑦,𝑎𝑝𝑝𝑙𝑒)+1)/(𝑤𝑜𝑟𝑑𝑐𝑜𝑢𝑛𝑡(𝑎𝑝𝑝𝑙𝑒)+|𝑉|)=(0+1)/(9+6)=.0666666"
   ]
  },
  {
   "cell_type": "markdown",
   "metadata": {},
   "source": [
    "*your answer here*"
   ]
  },
  {
   "cell_type": "markdown",
   "metadata": {},
   "source": [
    "<details>\n",
    "<summary>Solution</summary>\n",
    "$P(skinny|apple) = (wordcount(skinny,apple)+1)/(wordcount(apple)+|V|) = (0+1)/(9+6) = .0666666$\n",
    "</details>"
   ]
  },
  {
   "cell_type": "markdown",
   "metadata": {},
   "source": [
    "---\n",
    "\n",
    "**Now, do the calculation you just did but using vector operations to get the smoothed estimate of $P(w|apple)$ for all $w$ from the apple records and call it `P_w_apple`**\n",
    "\n",
    "Recall that `df[df.fruit==0]` gets you just the apple records.  Your $P(w|apple)$ resuls should be:\n",
    "\n",
    "```\n",
    "green     0.200000\n",
    "red       0.200000\n",
    "round     0.333333\n",
    "skinny    0.066667\n",
    "sour      0.133333\n",
    "yellow    0.066667\n",
    "fruit     0.066667\n",
    "```"
   ]
  },
  {
   "cell_type": "code",
   "execution_count": 8,
   "metadata": {},
   "outputs": [
    {
     "data": {
      "text/plain": [
       "green     0.200000\n",
       "red       0.200000\n",
       "round     0.333333\n",
       "skinny    0.066667\n",
       "sour      0.133333\n",
       "yellow    0.066667\n",
       "fruit     0.066667\n",
       "dtype: float64"
      ]
     },
     "execution_count": 8,
     "metadata": {},
     "output_type": "execute_result"
    }
   ],
   "source": [
    "# your code here\n",
    "w_counts_apple = df[df.fruit==0].sum(axis=0)\n",
    "P_w_apple = (w_counts_apple+1) / (9+len(V))\n",
    "P_w_apple"
   ]
  },
  {
   "cell_type": "markdown",
   "metadata": {},
   "source": [
    "<details>\n",
    "<summary>Solution</summary>\n",
    "    <pre>\n",
    "w_counts_apple = df[df.fruit==0].sum(axis=0)\n",
    "P_w_apple = (w_counts_apple+1) / (9+len(V))\n",
    "P_w_apple\n",
    "</pre>\n",
    "</details>"
   ]
  },
  {
   "cell_type": "markdown",
   "metadata": {},
   "source": [
    "---\n",
    "\n",
    "**Do that same thing to estimate $P(w|banana)$ from the banana records and call it `P_w_banana`**\n",
    "\n",
    "You should get:\n",
    "\n",
    "```\n",
    "green     0.166667\n",
    "red       0.083333\n",
    "round     0.083333\n",
    "skinny    0.333333\n",
    "sour      0.083333\n",
    "yellow    0.250000\n",
    "fruit     0.333333\n",
    "```"
   ]
  },
  {
   "cell_type": "code",
   "execution_count": 9,
   "metadata": {},
   "outputs": [
    {
     "data": {
      "text/plain": [
       "green     0.166667\n",
       "red       0.083333\n",
       "round     0.083333\n",
       "skinny    0.333333\n",
       "sour      0.083333\n",
       "yellow    0.250000\n",
       "fruit     0.333333\n",
       "dtype: float64"
      ]
     },
     "execution_count": 9,
     "metadata": {},
     "output_type": "execute_result"
    }
   ],
   "source": [
    "# your code here\n",
    "w_counts_banana = df[df.fruit==1].sum(axis=0)\n",
    "P_w_banana = (w_counts_banana+1) / (6+len(V))\n",
    "P_w_banana"
   ]
  },
  {
   "cell_type": "markdown",
   "metadata": {},
   "source": [
    "<details>\n",
    "<summary>Solution</summary>\n",
    "<pre>\n",
    "w_counts_banana = df[df.fruit==1].sum(axis=0)\n",
    "P_w_banana = (w_counts_banana+1) / (6+len(V))\n",
    "P_w_banana\n",
    "</pre>\n",
    "</details>"
   ]
  },
  {
   "cell_type": "markdown",
   "metadata": {},
   "source": [
    "---\n",
    "\n",
    "**Q.** Given `P_w_apple`, what is `P_apple_redround`, the \"probability\" that \"red round\" is an apple, or better yet $P(apple | red, round)$?\n",
    "\n",
    "(We haven't normalized the scores (per our friend Bayes) so they aren't technically probabilities.)  Just compute the score we'd use for classification per the lecture.  Hint: `P_w_apple['skinny']` gives the estimate of $P(skinny|apple)$. You can just use the product, no need to take the log for this one."
   ]
  },
  {
   "cell_type": "code",
   "execution_count": 10,
   "metadata": {},
   "outputs": [
    {
     "data": {
      "text/plain": [
       "0.03809523809523809"
      ]
     },
     "execution_count": 10,
     "metadata": {},
     "output_type": "execute_result"
    }
   ],
   "source": [
    "# your code here\n",
    "P_apple_redround = P_apple * P_w_apple['red']*P_w_apple['round']\n",
    "P_apple_redround"
   ]
  },
  {
   "cell_type": "markdown",
   "metadata": {},
   "source": [
    "<details>\n",
    "<summary>Solution</summary>\n",
    "    The answer is 0.03809523809523809 via:<br>\n",
    "    <tt>P_apple_redround = P_apple * P_w_apple['red']*P_w_apple['round']</tt>\n",
    "</details>"
   ]
  },
  {
   "cell_type": "markdown",
   "metadata": {},
   "source": [
    "---\n",
    "\n",
    "**Q.** Given `P_w_banana`, what is `P_banana_redround`, the \"probability\" that \"red round\" is a banana, or $P(banana|red,round)$?"
   ]
  },
  {
   "cell_type": "code",
   "execution_count": 11,
   "metadata": {},
   "outputs": [
    {
     "data": {
      "text/plain": [
       "0.002976190476190476"
      ]
     },
     "execution_count": 11,
     "metadata": {},
     "output_type": "execute_result"
    }
   ],
   "source": [
    "# your code here\n",
    "P_banana_redround = P_banana * P_w_banana['red']*P_w_banana['round']\n",
    "P_banana_redround"
   ]
  },
  {
   "cell_type": "markdown",
   "metadata": {},
   "source": [
    "<details>\n",
    "<summary>Solution</summary>\n",
    "    The answer is 0.002976190476190476 via:<br>\n",
    "    <tt>P_banana_redround = P_banana * P_w_banana['red']*P_w_banana['round']</tt>\n",
    "</details>"
   ]
  },
  {
   "cell_type": "markdown",
   "metadata": {},
   "source": [
    "Here's how to easily compute the probability of each word in V given class apple and class banana:"
   ]
  },
  {
   "cell_type": "code",
   "execution_count": 12,
   "metadata": {},
   "outputs": [
    {
     "data": {
      "text/plain": [
       "[0.2,\n",
       " 0.2,\n",
       " 0.3333333333333333,\n",
       " 0.06666666666666667,\n",
       " 0.13333333333333333,\n",
       " 0.06666666666666667]"
      ]
     },
     "execution_count": 12,
     "metadata": {},
     "output_type": "execute_result"
    }
   ],
   "source": [
    "[P_w_apple[w] for w in V]"
   ]
  },
  {
   "cell_type": "code",
   "execution_count": 13,
   "metadata": {},
   "outputs": [
    {
     "data": {
      "text/plain": [
       "[0.16666666666666666,\n",
       " 0.08333333333333333,\n",
       " 0.08333333333333333,\n",
       " 0.3333333333333333,\n",
       " 0.08333333333333333,\n",
       " 0.25]"
      ]
     },
     "execution_count": 13,
     "metadata": {},
     "output_type": "execute_result"
    }
   ],
   "source": [
    "[P_w_banana[w] for w in V]"
   ]
  },
  {
   "cell_type": "markdown",
   "metadata": {},
   "source": [
    "---\n",
    "\n",
    "**Now, define a function for computing the posterior, the $P(apple|d)$ for all of the documents $d$ in our dataframe, and then do the same for $P(banana|d)$**\n",
    "\n",
    "$$\n",
    "c^*= \\underset{c}{argmax} ~ P(c) \\prod_{w \\in V} P(w | c)^{n_w(d)}\n",
    "$$\n",
    "\n",
    "You have these pieces: `P_apple`, `P_w_apple`, and $n_w(d)$ is just the value in `df[w][d]`."
   ]
  },
  {
   "cell_type": "code",
   "execution_count": 14,
   "metadata": {},
   "outputs": [],
   "source": [
    "def likelihood_apple(d:int):\n",
    "    return P_apple * np.product([P_w_apple[w]**df[w][d] for w in V])\n",
    "def likelihood_banana(d:int):\n",
    "    return P_banana * np.product([P_w_banana[w]**df[w][d] for w in V])"
   ]
  },
  {
   "cell_type": "markdown",
   "metadata": {},
   "source": [
    "<details>\n",
    "<summary>Solution</summary>\n",
    "<pre>\n",
    "def likelihood_apple(d:int):\n",
    "    return P_apple * np.product([P_w_apple[w]**df[w][d] for w in V])\n",
    "def likelihood_banana(d:int):\n",
    "    return P_banana * np.product([P_w_banana[w]**df[w][d] for w in V])\n",
    "</pre>\n",
    "</details>\n"
   ]
  },
  {
   "cell_type": "markdown",
   "metadata": {},
   "source": [
    "---\n",
    "\n",
    "**Run the following loop to make predictions for each document**\n",
    "\n",
    "Output should be:\n",
    "\n",
    "```\n",
    "red round        : 0.038095, 0.002976 => apple\n",
    "red round        : 0.038095, 0.002976 => apple\n",
    "green sour round : 0.005079, 0.000496 => apple\n",
    "green round      : 0.038095, 0.005952 => apple\n",
    "yellow skinny    : 0.002540, 0.035714 => banana\n",
    "yellow skinny    : 0.002540, 0.035714 => banana\n",
    "green skinny     : 0.007619, 0.023810 => banana\n",
    "```"
   ]
  },
  {
   "cell_type": "code",
   "execution_count": 15,
   "metadata": {},
   "outputs": [
    {
     "name": "stdout",
     "output_type": "stream",
     "text": [
      "red round        : 0.038095, 0.002976 => apple\n",
      "red round        : 0.038095, 0.002976 => apple\n",
      "green sour round : 0.005079, 0.000496 => apple\n",
      "green round      : 0.038095, 0.005952 => apple\n",
      "yellow skinny    : 0.002540, 0.035714 => banana\n",
      "yellow skinny    : 0.002540, 0.035714 => banana\n",
      "green skinny     : 0.007619, 0.023810 => banana\n"
     ]
    }
   ],
   "source": [
    "docs = apples_docs+bananas_docs\n",
    "for d in range(len(df)):\n",
    "    a = likelihood_apple(d)\n",
    "    b = likelihood_banana(d)\n",
    "    print(f\"{docs[d]:17s}: {a:4f}, {b:4f} => {'apple' if a>b else 'banana'}\")"
   ]
  },
  {
   "cell_type": "code",
   "execution_count": null,
   "metadata": {},
   "outputs": [],
   "source": []
  }
 ],
 "metadata": {
  "kernelspec": {
   "display_name": "Python 3 (ipykernel)",
   "language": "python",
   "name": "python3"
  },
  "language_info": {
   "codemirror_mode": {
    "name": "ipython",
    "version": 3
   },
   "file_extension": ".py",
   "mimetype": "text/x-python",
   "name": "python",
   "nbconvert_exporter": "python",
   "pygments_lexer": "ipython3",
   "version": "3.11.6"
  },
  "vscode": {
   "interpreter": {
    "hash": "31f2aee4e71d21fbe5cf8b01ff0e069b9275f58929596ceb00d14d90e3e16cd6"
   }
  }
 },
 "nbformat": 4,
 "nbformat_minor": 4
}
